{
 "cells": [
  {
   "cell_type": "markdown",
   "id": "426e803a",
   "metadata": {
    "papermill": {
     "duration": 0.01,
     "end_time": "2025-08-10T15:59:03.921679",
     "exception": false,
     "start_time": "2025-08-10T15:59:03.911679",
     "status": "completed"
    },
    "tags": []
   },
   "source": [
    "# Welcome to Simple-Linear-Regression-from-Scratch Notebook. \n",
    "I am Amulya Jain, Aspirig ML Engineer, I am learning cool things and therefore in the journey to share and learn in public continuously. I am open to improvements and positive critism, would appreciate upvotes and feedback !!\n",
    "Happy Learning :) \n",
    "\n",
    "## In this notebook, We will apply Linear Regression Model on this Data by following Machine Learning Steps and apply all techniques from scratch."
   ]
  },
  {
   "cell_type": "markdown",
   "id": "f14f0752",
   "metadata": {
    "papermill": {
     "duration": 0.008958,
     "end_time": "2025-08-10T15:59:03.939090",
     "exception": false,
     "start_time": "2025-08-10T15:59:03.930132",
     "status": "completed"
    },
    "tags": []
   },
   "source": [
    "## Installing Dependencies for Computation and Visualization"
   ]
  },
  {
   "cell_type": "code",
   "execution_count": 1,
   "id": "ea56f459",
   "metadata": {
    "_cell_guid": "b1076dfc-b9ad-4769-8c92-a6c4dae69d19",
    "_uuid": "8f2839f25d086af736a60e9eeb907d3b93b6e0e5",
    "execution": {
     "iopub.execute_input": "2025-08-10T15:59:03.963436Z",
     "iopub.status.busy": "2025-08-10T15:59:03.962366Z",
     "iopub.status.idle": "2025-08-10T15:59:06.107372Z",
     "shell.execute_reply": "2025-08-10T15:59:06.105710Z"
    },
    "papermill": {
     "duration": 2.160152,
     "end_time": "2025-08-10T15:59:06.109456",
     "exception": false,
     "start_time": "2025-08-10T15:59:03.949304",
     "status": "completed"
    },
    "tags": []
   },
   "outputs": [
    {
     "name": "stdout",
     "output_type": "stream",
     "text": [
      "/kaggle/input/headbraincsv/headbrain.csv\n"
     ]
    }
   ],
   "source": [
    "# This Python 3 environment comes with many helpful analytics libraries installed\n",
    "# It is defined by the kaggle/python Docker image: https://github.com/kaggle/docker-python\n",
    "# For example, here's several helpful packages to load\n",
    "\n",
    "import numpy as np # linear algebra\n",
    "import pandas as pd # data processing, CSV file I/O (e.g. pd.read_csv)\n",
    "\n",
    "# Input data files are available in the read-only \"../input/\" directory\n",
    "# For example, running this (by clicking run or pressing Shift+Enter) will list all files under the input directory\n",
    "\n",
    "import os\n",
    "for dirname, _, filenames in os.walk('/kaggle/input'):\n",
    "    for filename in filenames:\n",
    "        print(os.path.join(dirname, filename))\n",
    "\n",
    "# You can write up to 20GB to the current directory (/kaggle/working/) that gets preserved as output when you create a version using \"Save & Run All\" \n",
    "# You can also write temporary files to /kaggle/temp/, but they won't be saved outside of the current session"
   ]
  },
  {
   "cell_type": "code",
   "execution_count": 2,
   "id": "48c0e7a3",
   "metadata": {
    "execution": {
     "iopub.execute_input": "2025-08-10T15:59:06.127757Z",
     "iopub.status.busy": "2025-08-10T15:59:06.127270Z",
     "iopub.status.idle": "2025-08-10T15:59:08.500792Z",
     "shell.execute_reply": "2025-08-10T15:59:08.499555Z"
    },
    "papermill": {
     "duration": 2.385062,
     "end_time": "2025-08-10T15:59:08.503069",
     "exception": false,
     "start_time": "2025-08-10T15:59:06.118007",
     "status": "completed"
    },
    "tags": []
   },
   "outputs": [],
   "source": [
    "import matplotlib.pyplot as plt\n",
    "import seaborn as sns\n",
    "from sklearn.model_selection import train_test_split \n",
    "%matplotlib inline\n",
    "plt.rcParams['figure.figsize'] = (20.0,10.0)\n",
    "import pickle"
   ]
  },
  {
   "cell_type": "markdown",
   "id": "51d1c035",
   "metadata": {
    "papermill": {
     "duration": 0.008017,
     "end_time": "2025-08-10T15:59:08.519595",
     "exception": false,
     "start_time": "2025-08-10T15:59:08.511578",
     "status": "completed"
    },
    "tags": []
   },
   "source": [
    "## Loading the Dataset"
   ]
  },
  {
   "cell_type": "code",
   "execution_count": 3,
   "id": "6751d897",
   "metadata": {
    "execution": {
     "iopub.execute_input": "2025-08-10T15:59:08.537997Z",
     "iopub.status.busy": "2025-08-10T15:59:08.537006Z",
     "iopub.status.idle": "2025-08-10T15:59:08.581331Z",
     "shell.execute_reply": "2025-08-10T15:59:08.579669Z"
    },
    "papermill": {
     "duration": 0.056147,
     "end_time": "2025-08-10T15:59:08.583898",
     "exception": false,
     "start_time": "2025-08-10T15:59:08.527751",
     "status": "completed"
    },
    "tags": []
   },
   "outputs": [
    {
     "data": {
      "text/html": [
       "<div>\n",
       "<style scoped>\n",
       "    .dataframe tbody tr th:only-of-type {\n",
       "        vertical-align: middle;\n",
       "    }\n",
       "\n",
       "    .dataframe tbody tr th {\n",
       "        vertical-align: top;\n",
       "    }\n",
       "\n",
       "    .dataframe thead th {\n",
       "        text-align: right;\n",
       "    }\n",
       "</style>\n",
       "<table border=\"1\" class=\"dataframe\">\n",
       "  <thead>\n",
       "    <tr style=\"text-align: right;\">\n",
       "      <th></th>\n",
       "      <th>Gender</th>\n",
       "      <th>Age Range</th>\n",
       "      <th>Head Size(cm^3)</th>\n",
       "      <th>Brain Weight(grams)</th>\n",
       "    </tr>\n",
       "  </thead>\n",
       "  <tbody>\n",
       "    <tr>\n",
       "      <th>0</th>\n",
       "      <td>1</td>\n",
       "      <td>1</td>\n",
       "      <td>4512</td>\n",
       "      <td>1530</td>\n",
       "    </tr>\n",
       "    <tr>\n",
       "      <th>1</th>\n",
       "      <td>1</td>\n",
       "      <td>1</td>\n",
       "      <td>3738</td>\n",
       "      <td>1297</td>\n",
       "    </tr>\n",
       "    <tr>\n",
       "      <th>2</th>\n",
       "      <td>1</td>\n",
       "      <td>1</td>\n",
       "      <td>4261</td>\n",
       "      <td>1335</td>\n",
       "    </tr>\n",
       "    <tr>\n",
       "      <th>3</th>\n",
       "      <td>1</td>\n",
       "      <td>1</td>\n",
       "      <td>3777</td>\n",
       "      <td>1282</td>\n",
       "    </tr>\n",
       "    <tr>\n",
       "      <th>4</th>\n",
       "      <td>1</td>\n",
       "      <td>1</td>\n",
       "      <td>4177</td>\n",
       "      <td>1590</td>\n",
       "    </tr>\n",
       "    <tr>\n",
       "      <th>...</th>\n",
       "      <td>...</td>\n",
       "      <td>...</td>\n",
       "      <td>...</td>\n",
       "      <td>...</td>\n",
       "    </tr>\n",
       "    <tr>\n",
       "      <th>232</th>\n",
       "      <td>2</td>\n",
       "      <td>2</td>\n",
       "      <td>3214</td>\n",
       "      <td>1110</td>\n",
       "    </tr>\n",
       "    <tr>\n",
       "      <th>233</th>\n",
       "      <td>2</td>\n",
       "      <td>2</td>\n",
       "      <td>3394</td>\n",
       "      <td>1215</td>\n",
       "    </tr>\n",
       "    <tr>\n",
       "      <th>234</th>\n",
       "      <td>2</td>\n",
       "      <td>2</td>\n",
       "      <td>3233</td>\n",
       "      <td>1104</td>\n",
       "    </tr>\n",
       "    <tr>\n",
       "      <th>235</th>\n",
       "      <td>2</td>\n",
       "      <td>2</td>\n",
       "      <td>3352</td>\n",
       "      <td>1170</td>\n",
       "    </tr>\n",
       "    <tr>\n",
       "      <th>236</th>\n",
       "      <td>2</td>\n",
       "      <td>2</td>\n",
       "      <td>3391</td>\n",
       "      <td>1120</td>\n",
       "    </tr>\n",
       "  </tbody>\n",
       "</table>\n",
       "<p>237 rows × 4 columns</p>\n",
       "</div>"
      ],
      "text/plain": [
       "     Gender  Age Range  Head Size(cm^3)  Brain Weight(grams)\n",
       "0         1          1             4512                 1530\n",
       "1         1          1             3738                 1297\n",
       "2         1          1             4261                 1335\n",
       "3         1          1             3777                 1282\n",
       "4         1          1             4177                 1590\n",
       "..      ...        ...              ...                  ...\n",
       "232       2          2             3214                 1110\n",
       "233       2          2             3394                 1215\n",
       "234       2          2             3233                 1104\n",
       "235       2          2             3352                 1170\n",
       "236       2          2             3391                 1120\n",
       "\n",
       "[237 rows x 4 columns]"
      ]
     },
     "execution_count": 3,
     "metadata": {},
     "output_type": "execute_result"
    }
   ],
   "source": [
    "## Dataframe\n",
    "df = pd.read_csv('/kaggle/input/headbraincsv/headbrain.csv') \n",
    "df"
   ]
  },
  {
   "cell_type": "markdown",
   "id": "17313a59",
   "metadata": {
    "papermill": {
     "duration": 0.008222,
     "end_time": "2025-08-10T15:59:08.601841",
     "exception": false,
     "start_time": "2025-08-10T15:59:08.593619",
     "status": "completed"
    },
    "tags": []
   },
   "source": [
    "## Basic Description of the Dataset"
   ]
  },
  {
   "cell_type": "code",
   "execution_count": 4,
   "id": "934eebb9",
   "metadata": {
    "execution": {
     "iopub.execute_input": "2025-08-10T15:59:08.620188Z",
     "iopub.status.busy": "2025-08-10T15:59:08.619842Z",
     "iopub.status.idle": "2025-08-10T15:59:08.625598Z",
     "shell.execute_reply": "2025-08-10T15:59:08.624617Z"
    },
    "papermill": {
     "duration": 0.017037,
     "end_time": "2025-08-10T15:59:08.627292",
     "exception": false,
     "start_time": "2025-08-10T15:59:08.610255",
     "status": "completed"
    },
    "tags": []
   },
   "outputs": [
    {
     "data": {
      "text/plain": [
       "(237, 4)"
      ]
     },
     "execution_count": 4,
     "metadata": {},
     "output_type": "execute_result"
    }
   ],
   "source": [
    "## Shape of the dataset (Rows, Columns)\n",
    "df.shape"
   ]
  },
  {
   "cell_type": "code",
   "execution_count": 5,
   "id": "6ed1101e",
   "metadata": {
    "execution": {
     "iopub.execute_input": "2025-08-10T15:59:08.647109Z",
     "iopub.status.busy": "2025-08-10T15:59:08.646755Z",
     "iopub.status.idle": "2025-08-10T15:59:08.671293Z",
     "shell.execute_reply": "2025-08-10T15:59:08.670078Z"
    },
    "papermill": {
     "duration": 0.037036,
     "end_time": "2025-08-10T15:59:08.673003",
     "exception": false,
     "start_time": "2025-08-10T15:59:08.635967",
     "status": "completed"
    },
    "tags": []
   },
   "outputs": [
    {
     "name": "stdout",
     "output_type": "stream",
     "text": [
      "<class 'pandas.core.frame.DataFrame'>\n",
      "RangeIndex: 237 entries, 0 to 236\n",
      "Data columns (total 4 columns):\n",
      " #   Column               Non-Null Count  Dtype\n",
      "---  ------               --------------  -----\n",
      " 0   Gender               237 non-null    int64\n",
      " 1   Age Range            237 non-null    int64\n",
      " 2   Head Size(cm^3)      237 non-null    int64\n",
      " 3   Brain Weight(grams)  237 non-null    int64\n",
      "dtypes: int64(4)\n",
      "memory usage: 7.5 KB\n"
     ]
    }
   ],
   "source": [
    "## Information about the columns\n",
    "df.info()"
   ]
  },
  {
   "cell_type": "markdown",
   "id": "e3b7033b",
   "metadata": {
    "papermill": {
     "duration": 0.008534,
     "end_time": "2025-08-10T15:59:08.690387",
     "exception": false,
     "start_time": "2025-08-10T15:59:08.681853",
     "status": "completed"
    },
    "tags": []
   },
   "source": [
    "#### We notice ```Not-Null Count``` and observe that good thing is that there is no column, which has null values."
   ]
  },
  {
   "cell_type": "code",
   "execution_count": 6,
   "id": "1639bf72",
   "metadata": {
    "execution": {
     "iopub.execute_input": "2025-08-10T15:59:08.708543Z",
     "iopub.status.busy": "2025-08-10T15:59:08.708232Z",
     "iopub.status.idle": "2025-08-10T15:59:08.736069Z",
     "shell.execute_reply": "2025-08-10T15:59:08.735182Z"
    },
    "papermill": {
     "duration": 0.038813,
     "end_time": "2025-08-10T15:59:08.737734",
     "exception": false,
     "start_time": "2025-08-10T15:59:08.698921",
     "status": "completed"
    },
    "tags": []
   },
   "outputs": [
    {
     "data": {
      "text/html": [
       "<div>\n",
       "<style scoped>\n",
       "    .dataframe tbody tr th:only-of-type {\n",
       "        vertical-align: middle;\n",
       "    }\n",
       "\n",
       "    .dataframe tbody tr th {\n",
       "        vertical-align: top;\n",
       "    }\n",
       "\n",
       "    .dataframe thead th {\n",
       "        text-align: right;\n",
       "    }\n",
       "</style>\n",
       "<table border=\"1\" class=\"dataframe\">\n",
       "  <thead>\n",
       "    <tr style=\"text-align: right;\">\n",
       "      <th></th>\n",
       "      <th>Gender</th>\n",
       "      <th>Age Range</th>\n",
       "      <th>Head Size(cm^3)</th>\n",
       "      <th>Brain Weight(grams)</th>\n",
       "    </tr>\n",
       "  </thead>\n",
       "  <tbody>\n",
       "    <tr>\n",
       "      <th>count</th>\n",
       "      <td>237.000000</td>\n",
       "      <td>237.000000</td>\n",
       "      <td>237.000000</td>\n",
       "      <td>237.000000</td>\n",
       "    </tr>\n",
       "    <tr>\n",
       "      <th>mean</th>\n",
       "      <td>1.434599</td>\n",
       "      <td>1.535865</td>\n",
       "      <td>3633.991561</td>\n",
       "      <td>1282.873418</td>\n",
       "    </tr>\n",
       "    <tr>\n",
       "      <th>std</th>\n",
       "      <td>0.496753</td>\n",
       "      <td>0.499768</td>\n",
       "      <td>365.261422</td>\n",
       "      <td>120.340446</td>\n",
       "    </tr>\n",
       "    <tr>\n",
       "      <th>min</th>\n",
       "      <td>1.000000</td>\n",
       "      <td>1.000000</td>\n",
       "      <td>2720.000000</td>\n",
       "      <td>955.000000</td>\n",
       "    </tr>\n",
       "    <tr>\n",
       "      <th>25%</th>\n",
       "      <td>1.000000</td>\n",
       "      <td>1.000000</td>\n",
       "      <td>3389.000000</td>\n",
       "      <td>1207.000000</td>\n",
       "    </tr>\n",
       "    <tr>\n",
       "      <th>50%</th>\n",
       "      <td>1.000000</td>\n",
       "      <td>2.000000</td>\n",
       "      <td>3614.000000</td>\n",
       "      <td>1280.000000</td>\n",
       "    </tr>\n",
       "    <tr>\n",
       "      <th>75%</th>\n",
       "      <td>2.000000</td>\n",
       "      <td>2.000000</td>\n",
       "      <td>3876.000000</td>\n",
       "      <td>1350.000000</td>\n",
       "    </tr>\n",
       "    <tr>\n",
       "      <th>max</th>\n",
       "      <td>2.000000</td>\n",
       "      <td>2.000000</td>\n",
       "      <td>4747.000000</td>\n",
       "      <td>1635.000000</td>\n",
       "    </tr>\n",
       "  </tbody>\n",
       "</table>\n",
       "</div>"
      ],
      "text/plain": [
       "           Gender   Age Range  Head Size(cm^3)  Brain Weight(grams)\n",
       "count  237.000000  237.000000       237.000000           237.000000\n",
       "mean     1.434599    1.535865      3633.991561          1282.873418\n",
       "std      0.496753    0.499768       365.261422           120.340446\n",
       "min      1.000000    1.000000      2720.000000           955.000000\n",
       "25%      1.000000    1.000000      3389.000000          1207.000000\n",
       "50%      1.000000    2.000000      3614.000000          1280.000000\n",
       "75%      2.000000    2.000000      3876.000000          1350.000000\n",
       "max      2.000000    2.000000      4747.000000          1635.000000"
      ]
     },
     "execution_count": 6,
     "metadata": {},
     "output_type": "execute_result"
    }
   ],
   "source": [
    "df.describe()"
   ]
  },
  {
   "cell_type": "markdown",
   "id": "0c53a59a",
   "metadata": {
    "papermill": {
     "duration": 0.009166,
     "end_time": "2025-08-10T15:59:08.755939",
     "exception": false,
     "start_time": "2025-08-10T15:59:08.746773",
     "status": "completed"
    },
    "tags": []
   },
   "source": [
    "#### Basic Statistics from describe tell us that stats about the data in the column."
   ]
  },
  {
   "cell_type": "markdown",
   "id": "5a91d5ba",
   "metadata": {
    "papermill": {
     "duration": 0.008529,
     "end_time": "2025-08-10T15:59:08.773307",
     "exception": false,
     "start_time": "2025-08-10T15:59:08.764778",
     "status": "completed"
    },
    "tags": []
   },
   "source": [
    "## Basic Plots to understand the data"
   ]
  },
  {
   "cell_type": "code",
   "execution_count": 7,
   "id": "5d46c740",
   "metadata": {
    "execution": {
     "iopub.execute_input": "2025-08-10T15:59:08.794429Z",
     "iopub.status.busy": "2025-08-10T15:59:08.793317Z",
     "iopub.status.idle": "2025-08-10T15:59:09.197912Z",
     "shell.execute_reply": "2025-08-10T15:59:09.196949Z"
    },
    "papermill": {
     "duration": 0.416596,
     "end_time": "2025-08-10T15:59:09.199575",
     "exception": false,
     "start_time": "2025-08-10T15:59:08.782979",
     "status": "completed"
    },
    "tags": []
   },
   "outputs": [
    {
     "data": {
      "image/png": "[encoded data removed]",
      "text/plain": [
       "<Figure size 2000x1000 with 2 Axes>"
      ]
     },
     "metadata": {},
     "output_type": "display_data"
    }
   ],
   "source": [
    "## Correlation matrix\n",
    "corr = df.corr(numeric_only=True)  # numeric_only avoids errors if strings exist\n",
    "\n",
    "sns.heatmap(corr, cmap=\"coolwarm\", fmt=\".2f\")\n",
    "plt.title(\"Correlation Heatmap\", fontsize=14)\n",
    "plt.show()"
   ]
  },
  {
   "cell_type": "markdown",
   "id": "b313fbc5",
   "metadata": {
    "papermill": {
     "duration": 0.011128,
     "end_time": "2025-08-10T15:59:09.220575",
     "exception": false,
     "start_time": "2025-08-10T15:59:09.209447",
     "status": "completed"
    },
    "tags": []
   },
   "source": [
    "#### We observe the 2 blocks x 2 blocks, 4 red blocks at the bottom right and other blue ones indicating:\n",
    "1. Head Size (cm³) and Brain Weight (grams) have a strong positive correlation (≈ 0.8+).\n",
    "    - This means head size is a good predictor for brain weight in a linear model.\n",
    "2. Gender and Age Range have very low correlations (close to 0 or slightly negative) with brain weight.\n",
    "    - In simple linear regression, features with low correlation to the target won’t help much.\n",
    "    - In multiple linear regression, they might still help if they interact with other features (but here, likely minimal impact)."
   ]
  },
  {
   "cell_type": "markdown",
   "id": "b9c4a72c",
   "metadata": {
    "papermill": {
     "duration": 0.013985,
     "end_time": "2025-08-10T15:59:09.311782",
     "exception": false,
     "start_time": "2025-08-10T15:59:09.297797",
     "status": "completed"
    },
    "tags": []
   },
   "source": [
    "#### Now, below are some boxplots to see if there exists outliers which would affect our model learning."
   ]
  },
  {
   "cell_type": "code",
   "execution_count": 8,
   "id": "cdf400c3",
   "metadata": {
    "execution": {
     "iopub.execute_input": "2025-08-10T15:59:09.332871Z",
     "iopub.status.busy": "2025-08-10T15:59:09.332543Z",
     "iopub.status.idle": "2025-08-10T15:59:09.515448Z",
     "shell.execute_reply": "2025-08-10T15:59:09.514304Z"
    },
    "papermill": {
     "duration": 0.195496,
     "end_time": "2025-08-10T15:59:09.517304",
     "exception": false,
     "start_time": "2025-08-10T15:59:09.321808",
     "status": "completed"
    },
    "tags": []
   },
   "outputs": [
    {
     "data": {
      "image/png": "[encoded data removed]",
      "text/plain": [
       "<Figure size 2000x1000 with 1 Axes>"
      ]
     },
     "metadata": {},
     "output_type": "display_data"
    }
   ],
   "source": [
    "## Box plot of Brain Weight\n",
    "sns.boxplot(x=\"Brain Weight(grams)\", data=df)\n",
    "plt.title(\"Brain Weight boxplot\")\n",
    "plt.show()"
   ]
  },
  {
   "cell_type": "code",
   "execution_count": 9,
   "id": "789656fd",
   "metadata": {
    "execution": {
     "iopub.execute_input": "2025-08-10T15:59:09.540849Z",
     "iopub.status.busy": "2025-08-10T15:59:09.540469Z",
     "iopub.status.idle": "2025-08-10T15:59:09.723684Z",
     "shell.execute_reply": "2025-08-10T15:59:09.722696Z"
    },
    "papermill": {
     "duration": 0.19591,
     "end_time": "2025-08-10T15:59:09.725233",
     "exception": false,
     "start_time": "2025-08-10T15:59:09.529323",
     "status": "completed"
    },
    "tags": []
   },
   "outputs": [
    {
     "data": {
      "image/png": "[encoded data removed]",
      "text/plain": [
       "<Figure size 2000x1000 with 1 Axes>"
      ]
     },
     "metadata": {},
     "output_type": "display_data"
    }
   ],
   "source": [
    "## Box plot of Head Size\n",
    "sns.boxplot(x=\"Head Size(cm^3)\", data=df)\n",
    "plt.title(\"Head Size by Age Range\")\n",
    "plt.show()"
   ]
  },
  {
   "cell_type": "markdown",
   "id": "0bdf7f5a",
   "metadata": {
    "papermill": {
     "duration": 0.010067,
     "end_time": "2025-08-10T15:59:09.745987",
     "exception": false,
     "start_time": "2025-08-10T15:59:09.735920",
     "status": "completed"
    },
    "tags": []
   },
   "source": [
    "#### We see, there are some outliers (those tiny points beyond the distribution of the plots) in both features (columns), so before that we should also keep in mind certain points:\n",
    "1. Since our dataset is small and probably not perfectly normal, I’d perform IQR because it is robust to small datasets and also works well for skewed data but we can do z-score also.\n",
    "2. Removing true noise can improve our model performance metrics when we will do it.\n",
    "3. But if those “outliers” are valid measurements, removing them may reduce generalization."
   ]
  },
  {
   "cell_type": "code",
   "execution_count": 10,
   "id": "23c0ab73",
   "metadata": {
    "execution": {
     "iopub.execute_input": "2025-08-10T15:59:09.767680Z",
     "iopub.status.busy": "2025-08-10T15:59:09.767359Z",
     "iopub.status.idle": "2025-08-10T15:59:09.773146Z",
     "shell.execute_reply": "2025-08-10T15:59:09.772163Z"
    },
    "papermill": {
     "duration": 0.01849,
     "end_time": "2025-08-10T15:59:09.774698",
     "exception": false,
     "start_time": "2025-08-10T15:59:09.756208",
     "status": "completed"
    },
    "tags": []
   },
   "outputs": [],
   "source": [
    "def remove_outliers_iqr(df, column, factor=1.5):\n",
    "    Q1 = df[column].quantile(0.25)\n",
    "    Q3 = df[column].quantile(0.75)\n",
    "    IQR = Q3 - Q1\n",
    "\n",
    "    lower_bound = Q1 - factor * IQR\n",
    "    upper_bound = Q3 + factor * IQR\n",
    "\n",
    "    return df[(df[column] >= lower_bound) & (df[column] <= upper_bound)]"
   ]
  },
  {
   "cell_type": "code",
   "execution_count": 11,
   "id": "db70ddd4",
   "metadata": {
    "execution": {
     "iopub.execute_input": "2025-08-10T15:59:09.796638Z",
     "iopub.status.busy": "2025-08-10T15:59:09.796265Z",
     "iopub.status.idle": "2025-08-10T15:59:09.807360Z",
     "shell.execute_reply": "2025-08-10T15:59:09.806308Z"
    },
    "papermill": {
     "duration": 0.023761,
     "end_time": "2025-08-10T15:59:09.808862",
     "exception": false,
     "start_time": "2025-08-10T15:59:09.785101",
     "status": "completed"
    },
    "tags": []
   },
   "outputs": [
    {
     "name": "stdout",
     "output_type": "stream",
     "text": [
      "Original: (237, 4)\n",
      "After removing outliers: (231, 4)\n"
     ]
    }
   ],
   "source": [
    "df_clean = remove_outliers_iqr(df, \"Head Size(cm^3)\")\n",
    "df_clean = remove_outliers_iqr(df_clean, \"Brain Weight(grams)\")\n",
    "\n",
    "print(\"Original:\", df.shape)\n",
    "print(\"After removing outliers:\", df_clean.shape)"
   ]
  },
  {
   "cell_type": "code",
   "execution_count": 12,
   "id": "48047cfd",
   "metadata": {
    "execution": {
     "iopub.execute_input": "2025-08-10T15:59:09.831202Z",
     "iopub.status.busy": "2025-08-10T15:59:09.830877Z",
     "iopub.status.idle": "2025-08-10T15:59:09.998880Z",
     "shell.execute_reply": "2025-08-10T15:59:09.997989Z"
    },
    "papermill": {
     "duration": 0.181652,
     "end_time": "2025-08-10T15:59:10.000945",
     "exception": false,
     "start_time": "2025-08-10T15:59:09.819293",
     "status": "completed"
    },
    "tags": []
   },
   "outputs": [
    {
     "data": {
      "image/png": "[encoded data removed]",
      "text/plain": [
       "<Figure size 2000x1000 with 1 Axes>"
      ]
     },
     "metadata": {},
     "output_type": "display_data"
    }
   ],
   "source": [
    "## Box plot of Brain Weight after IQR\n",
    "sns.boxplot(x=\"Brain Weight(grams)\", data=df_clean)\n",
    "plt.title(\"Brain Weight boxplot\")\n",
    "plt.show()"
   ]
  },
  {
   "cell_type": "code",
   "execution_count": 13,
   "id": "1de28fe7",
   "metadata": {
    "execution": {
     "iopub.execute_input": "2025-08-10T15:59:10.028815Z",
     "iopub.status.busy": "2025-08-10T15:59:10.028098Z",
     "iopub.status.idle": "2025-08-10T15:59:10.196361Z",
     "shell.execute_reply": "2025-08-10T15:59:10.195097Z"
    },
    "papermill": {
     "duration": 0.182687,
     "end_time": "2025-08-10T15:59:10.198394",
     "exception": false,
     "start_time": "2025-08-10T15:59:10.015707",
     "status": "completed"
    },
    "tags": []
   },
   "outputs": [
    {
     "data": {
      "image/png": "[encoded data removed]",
      "text/plain": [
       "<Figure size 2000x1000 with 1 Axes>"
      ]
     },
     "metadata": {},
     "output_type": "display_data"
    }
   ],
   "source": [
    "## Box plot of Head Size after IQR\n",
    "sns.boxplot(x=\"Head Size(cm^3)\", data=df_clean)\n",
    "plt.title(\"Head Size by Age Range\")\n",
    "plt.show()"
   ]
  },
  {
   "cell_type": "markdown",
   "id": "e9f8830a",
   "metadata": {
    "papermill": {
     "duration": 0.011766,
     "end_time": "2025-08-10T15:59:10.222055",
     "exception": false,
     "start_time": "2025-08-10T15:59:10.210289",
     "status": "completed"
    },
    "tags": []
   },
   "source": [
    "#### We see the outliers have been removed from the data without significant loss of data from 237 to 231"
   ]
  },
  {
   "cell_type": "markdown",
   "id": "ad1d90d1",
   "metadata": {
    "papermill": {
     "duration": 0.011117,
     "end_time": "2025-08-10T15:59:10.244295",
     "exception": false,
     "start_time": "2025-08-10T15:59:10.233178",
     "status": "completed"
    },
    "tags": []
   },
   "source": [
    "## Preprocessing the data\n",
    "Since the data is cleaned, we will now preprocess data for our model to learn and perform better."
   ]
  },
  {
   "cell_type": "code",
   "execution_count": 14,
   "id": "a36b2cb2",
   "metadata": {
    "execution": {
     "iopub.execute_input": "2025-08-10T15:59:10.268812Z",
     "iopub.status.busy": "2025-08-10T15:59:10.268452Z",
     "iopub.status.idle": "2025-08-10T15:59:10.273283Z",
     "shell.execute_reply": "2025-08-10T15:59:10.272216Z"
    },
    "papermill": {
     "duration": 0.019244,
     "end_time": "2025-08-10T15:59:10.274894",
     "exception": false,
     "start_time": "2025-08-10T15:59:10.255650",
     "status": "completed"
    },
    "tags": []
   },
   "outputs": [],
   "source": [
    "## Separating dependent and independent features or target variables\n",
    "X = df_clean['Head Size(cm^3)'].values\n",
    "y = df_clean['Brain Weight(grams)'].values"
   ]
  },
  {
   "cell_type": "code",
   "execution_count": 15,
   "id": "5c15f0ab",
   "metadata": {
    "execution": {
     "iopub.execute_input": "2025-08-10T15:59:10.298673Z",
     "iopub.status.busy": "2025-08-10T15:59:10.298334Z",
     "iopub.status.idle": "2025-08-10T15:59:10.303812Z",
     "shell.execute_reply": "2025-08-10T15:59:10.303035Z"
    },
    "papermill": {
     "duration": 0.019059,
     "end_time": "2025-08-10T15:59:10.305221",
     "exception": false,
     "start_time": "2025-08-10T15:59:10.286162",
     "status": "completed"
    },
    "tags": []
   },
   "outputs": [],
   "source": [
    "## Splitting data into testing and training\n",
    "X_train, X_test, y_train, y_test = train_test_split(X, y, test_size=0.33, random_state=42)"
   ]
  },
  {
   "cell_type": "markdown",
   "id": "87d308f5",
   "metadata": {
    "papermill": {
     "duration": 0.011207,
     "end_time": "2025-08-10T15:59:10.327764",
     "exception": false,
     "start_time": "2025-08-10T15:59:10.316557",
     "status": "completed"
    },
    "tags": []
   },
   "source": [
    "#### Generally we use cross validation as a good practice but here we are going with simple test train split."
   ]
  },
  {
   "cell_type": "code",
   "execution_count": 16,
   "id": "431ba137",
   "metadata": {
    "execution": {
     "iopub.execute_input": "2025-08-10T15:59:10.351629Z",
     "iopub.status.busy": "2025-08-10T15:59:10.351280Z",
     "iopub.status.idle": "2025-08-10T15:59:10.356248Z",
     "shell.execute_reply": "2025-08-10T15:59:10.355434Z"
    },
    "papermill": {
     "duration": 0.018561,
     "end_time": "2025-08-10T15:59:10.357554",
     "exception": false,
     "start_time": "2025-08-10T15:59:10.338993",
     "status": "completed"
    },
    "tags": []
   },
   "outputs": [],
   "source": [
    "## Standardizing the data\n",
    "def standardize_data(X_train, X_test):\n",
    "    X_train_mean = np.mean(X_train)\n",
    "    X_train_std = np.std(X_train)\n",
    "\n",
    "    X_train = (X_train - X_train_mean) / X_train_std\n",
    "    X_test = (X_test - X_train_mean) / X_train_std\n",
    "\n",
    "    return X_train, X_test"
   ]
  },
  {
   "cell_type": "code",
   "execution_count": 17,
   "id": "d45fd1f5",
   "metadata": {
    "execution": {
     "iopub.execute_input": "2025-08-10T15:59:10.381612Z",
     "iopub.status.busy": "2025-08-10T15:59:10.381267Z",
     "iopub.status.idle": "2025-08-10T15:59:10.386019Z",
     "shell.execute_reply": "2025-08-10T15:59:10.385160Z"
    },
    "papermill": {
     "duration": 0.018575,
     "end_time": "2025-08-10T15:59:10.387321",
     "exception": false,
     "start_time": "2025-08-10T15:59:10.368746",
     "status": "completed"
    },
    "tags": []
   },
   "outputs": [],
   "source": [
    "X_train, X_test = standardize_data(X_train, X_test)"
   ]
  },
  {
   "cell_type": "markdown",
   "id": "6d531ce3",
   "metadata": {
    "papermill": {
     "duration": 0.010936,
     "end_time": "2025-08-10T15:59:10.409674",
     "exception": false,
     "start_time": "2025-08-10T15:59:10.398738",
     "status": "completed"
    },
    "tags": []
   },
   "source": [
    "## ML model for the Dataset"
   ]
  },
  {
   "cell_type": "markdown",
   "id": "b2e4b476",
   "metadata": {
    "papermill": {
     "duration": 0.011185,
     "end_time": "2025-08-10T15:59:10.431951",
     "exception": false,
     "start_time": "2025-08-10T15:59:10.420766",
     "status": "completed"
    },
    "tags": []
   },
   "source": [
    "#### Below are some functions about the algorithm which we will use."
   ]
  },
  {
   "cell_type": "code",
   "execution_count": 18,
   "id": "cabddb13",
   "metadata": {
    "execution": {
     "iopub.execute_input": "2025-08-10T15:59:10.455379Z",
     "iopub.status.busy": "2025-08-10T15:59:10.455084Z",
     "iopub.status.idle": "2025-08-10T15:59:10.459489Z",
     "shell.execute_reply": "2025-08-10T15:59:10.458667Z"
    },
    "papermill": {
     "duration": 0.018011,
     "end_time": "2025-08-10T15:59:10.460980",
     "exception": false,
     "start_time": "2025-08-10T15:59:10.442969",
     "status": "completed"
    },
    "tags": []
   },
   "outputs": [],
   "source": [
    "## y = f(x) = w.X + b \n",
    "def predict_y(X, w, b):\n",
    "    X = X.reshape(-1, 1)\n",
    "    return np.dot(X, w) + b  # works for 1D and multi-D"
   ]
  },
  {
   "cell_type": "code",
   "execution_count": 19,
   "id": "b763219c",
   "metadata": {
    "execution": {
     "iopub.execute_input": "2025-08-10T15:59:10.485241Z",
     "iopub.status.busy": "2025-08-10T15:59:10.484883Z",
     "iopub.status.idle": "2025-08-10T15:59:10.490626Z",
     "shell.execute_reply": "2025-08-10T15:59:10.489664Z"
    },
    "papermill": {
     "duration": 0.019954,
     "end_time": "2025-08-10T15:59:10.492375",
     "exception": false,
     "start_time": "2025-08-10T15:59:10.472421",
     "status": "completed"
    },
    "tags": []
   },
   "outputs": [],
   "source": [
    "def compute_coefficients(X_train, y_train):\n",
    "  n = len(X_train)\n",
    "  X_mean = np.mean(X_train)\n",
    "  y_mean = np.mean(y_train)\n",
    "\n",
    "  numerator = 0\n",
    "  denominator = 0\n",
    "\n",
    "  for i in range(n):\n",
    "    numerator += (X_train[i] - X_mean) * (y_train[i] - y_mean)\n",
    "    denominator += (X_train[i] - X_mean) ** 2\n",
    "\n",
    "  slope = numerator / denominator\n",
    "  intercept = y_mean - slope * X_mean\n",
    "\n",
    "  return slope, intercept"
   ]
  },
  {
   "cell_type": "code",
   "execution_count": 20,
   "id": "d550c5e2",
   "metadata": {
    "execution": {
     "iopub.execute_input": "2025-08-10T15:59:10.516780Z",
     "iopub.status.busy": "2025-08-10T15:59:10.516442Z",
     "iopub.status.idle": "2025-08-10T15:59:10.521624Z",
     "shell.execute_reply": "2025-08-10T15:59:10.520713Z"
    },
    "papermill": {
     "duration": 0.018944,
     "end_time": "2025-08-10T15:59:10.523158",
     "exception": false,
     "start_time": "2025-08-10T15:59:10.504214",
     "status": "completed"
    },
    "tags": []
   },
   "outputs": [],
   "source": [
    "def evaluate_ols(y_test, y_pred):\n",
    "  mse = np.mean((y_test - y_pred) ** 2)\n",
    "  rmse = np.sqrt(mse)\n",
    "  r2 = 1 - (np.sum((y_test - y_pred) ** 2) / np.sum((y_test - np.mean(y_test)) ** 2))\n",
    "  return mse, rmse, r2"
   ]
  },
  {
   "cell_type": "code",
   "execution_count": 21,
   "id": "1bfaa64c",
   "metadata": {
    "execution": {
     "iopub.execute_input": "2025-08-10T15:59:10.547780Z",
     "iopub.status.busy": "2025-08-10T15:59:10.547433Z",
     "iopub.status.idle": "2025-08-10T15:59:10.552738Z",
     "shell.execute_reply": "2025-08-10T15:59:10.551869Z"
    },
    "papermill": {
     "duration": 0.020021,
     "end_time": "2025-08-10T15:59:10.554342",
     "exception": false,
     "start_time": "2025-08-10T15:59:10.534321",
     "status": "completed"
    },
    "tags": []
   },
   "outputs": [],
   "source": [
    "w, b = compute_coefficients(X_train, y_train)\n",
    "y_pred = predict_y(X_test, w, b)"
   ]
  },
  {
   "cell_type": "code",
   "execution_count": 22,
   "id": "82e8076d",
   "metadata": {
    "execution": {
     "iopub.execute_input": "2025-08-10T15:59:10.579238Z",
     "iopub.status.busy": "2025-08-10T15:59:10.578965Z",
     "iopub.status.idle": "2025-08-10T15:59:10.583859Z",
     "shell.execute_reply": "2025-08-10T15:59:10.582942Z"
    },
    "papermill": {
     "duration": 0.019466,
     "end_time": "2025-08-10T15:59:10.585228",
     "exception": false,
     "start_time": "2025-08-10T15:59:10.565762",
     "status": "completed"
    },
    "tags": []
   },
   "outputs": [
    {
     "name": "stdout",
     "output_type": "stream",
     "text": [
      "Coefficient of x or slope of f(x): 88.98403678905333,\n",
      "     y-intercept or constant term: 1266.5194805194806\n"
     ]
    }
   ],
   "source": [
    "print(f\"Coefficient of x or slope of f(x): {w},\\n     y-intercept or constant term: {b}\")"
   ]
  },
  {
   "cell_type": "markdown",
   "id": "6d1dc0c8",
   "metadata": {
    "papermill": {
     "duration": 0.012072,
     "end_time": "2025-08-10T15:59:10.610627",
     "exception": false,
     "start_time": "2025-08-10T15:59:10.598555",
     "status": "completed"
    },
    "tags": []
   },
   "source": [
    "## Evaluation of Model"
   ]
  },
  {
   "cell_type": "code",
   "execution_count": 23,
   "id": "e4833be5",
   "metadata": {
    "execution": {
     "iopub.execute_input": "2025-08-10T15:59:10.635592Z",
     "iopub.status.busy": "2025-08-10T15:59:10.635270Z",
     "iopub.status.idle": "2025-08-10T15:59:10.642364Z",
     "shell.execute_reply": "2025-08-10T15:59:10.640788Z"
    },
    "papermill": {
     "duration": 0.022066,
     "end_time": "2025-08-10T15:59:10.644121",
     "exception": false,
     "start_time": "2025-08-10T15:59:10.622055",
     "status": "completed"
    },
    "tags": []
   },
   "outputs": [
    {
     "name": "stdout",
     "output_type": "stream",
     "text": [
      "MSE (Mean Squared Error):  18310.172721889543\n",
      "RMSE (Root Mean Squared Error):  135.31508682290215\n",
      "R^2 (Coefficient of determination):  -140.71000651085004\n"
     ]
    }
   ],
   "source": [
    "mse, rmse, r2 = evaluate_ols(y_test, y_pred)\n",
    "print(\"MSE (Mean Squared Error): \", mse)\n",
    "print(\"RMSE (Root Mean Squared Error): \", rmse)\n",
    "print(\"R^2 (Coefficient of determination): \", r2)"
   ]
  },
  {
   "cell_type": "code",
   "execution_count": 24,
   "id": "925a55d6",
   "metadata": {
    "execution": {
     "iopub.execute_input": "2025-08-10T15:59:10.670106Z",
     "iopub.status.busy": "2025-08-10T15:59:10.669533Z",
     "iopub.status.idle": "2025-08-10T15:59:10.954661Z",
     "shell.execute_reply": "2025-08-10T15:59:10.953700Z"
    },
    "papermill": {
     "duration": 0.299736,
     "end_time": "2025-08-10T15:59:10.956230",
     "exception": false,
     "start_time": "2025-08-10T15:59:10.656494",
     "status": "completed"
    },
    "tags": []
   },
   "outputs": [
    {
     "data": {
      "image/png": "[encoded data removed]",
      "text/plain": [
       "<Figure size 2000x1000 with 1 Axes>"
      ]
     },
     "metadata": {},
     "output_type": "display_data"
    }
   ],
   "source": [
    "plt.scatter(X_train, y_train, label='Observed Value')\n",
    "plt.plot(X_test, y_pred, label='Predicted Value', color='red')\n",
    "plt.xlabel('<--X-Axis-->')\n",
    "plt.ylabel('<--Y-Axis-->')\n",
    "plt.legend()\n",
    "plt.show()"
   ]
  },
  {
   "cell_type": "markdown",
   "id": "69d7947e",
   "metadata": {
    "papermill": {
     "duration": 0.012348,
     "end_time": "2025-08-10T15:59:10.981975",
     "exception": false,
     "start_time": "2025-08-10T15:59:10.969627",
     "status": "completed"
    },
    "tags": []
   },
   "source": [
    "## Minor Conclusion: \n",
    "- R^2 tells how much our model fits the data. Along with MSE and RMSE tells the error of predicted values of target and actual values of target.\n",
    "- Looking at the values, our model is not that great and has not properly captured the data variance.\n",
    "- Major reason for average performance is target value, Brain weight may depend on more features rather than brain size.\n",
    "- Another reason may be less data and less information. I think."
   ]
  },
  {
   "cell_type": "markdown",
   "id": "bf0f3953",
   "metadata": {
    "papermill": {
     "duration": 0.012277,
     "end_time": "2025-08-10T15:59:11.006760",
     "exception": false,
     "start_time": "2025-08-10T15:59:10.994483",
     "status": "completed"
    },
    "tags": []
   },
   "source": [
    "## Using Gradient Descent Optimization"
   ]
  },
  {
   "cell_type": "markdown",
   "id": "978f75e4",
   "metadata": {
    "papermill": {
     "duration": 0.01233,
     "end_time": "2025-08-10T15:59:11.031629",
     "exception": false,
     "start_time": "2025-08-10T15:59:11.019299",
     "status": "completed"
    },
    "tags": []
   },
   "source": [
    "#### Below are some functions about the algorithm which we will use."
   ]
  },
  {
   "cell_type": "code",
   "execution_count": 25,
   "id": "7f565fc4",
   "metadata": {
    "execution": {
     "iopub.execute_input": "2025-08-10T15:59:11.059850Z",
     "iopub.status.busy": "2025-08-10T15:59:11.058879Z",
     "iopub.status.idle": "2025-08-10T15:59:11.063427Z",
     "shell.execute_reply": "2025-08-10T15:59:11.062693Z"
    },
    "papermill": {
     "duration": 0.019993,
     "end_time": "2025-08-10T15:59:11.064976",
     "exception": false,
     "start_time": "2025-08-10T15:59:11.044983",
     "status": "completed"
    },
    "tags": []
   },
   "outputs": [],
   "source": [
    "def initialize(num_features):\n",
    "    w = np.random.rand(num_features)  # shape: (num_features)\n",
    "    b = np.random.rand()\n",
    "    return w, b"
   ]
  },
  {
   "cell_type": "code",
   "execution_count": 26,
   "id": "7f293022",
   "metadata": {
    "execution": {
     "iopub.execute_input": "2025-08-10T15:59:11.092049Z",
     "iopub.status.busy": "2025-08-10T15:59:11.091383Z",
     "iopub.status.idle": "2025-08-10T15:59:11.095977Z",
     "shell.execute_reply": "2025-08-10T15:59:11.095219Z"
    },
    "papermill": {
     "duration": 0.019494,
     "end_time": "2025-08-10T15:59:11.097334",
     "exception": false,
     "start_time": "2025-08-10T15:59:11.077840",
     "status": "completed"
    },
    "tags": []
   },
   "outputs": [],
   "source": [
    "def compute_cost(y_true, y_pred):\n",
    "    m = len(y_true)\n",
    "    cost = (1 / (2 * m)) * np.sum((y_pred - y_true) ** 2)\n",
    "    return cost"
   ]
  },
  {
   "cell_type": "code",
   "execution_count": 27,
   "id": "7358b00b",
   "metadata": {
    "execution": {
     "iopub.execute_input": "2025-08-10T15:59:11.125015Z",
     "iopub.status.busy": "2025-08-10T15:59:11.124668Z",
     "iopub.status.idle": "2025-08-10T15:59:11.129734Z",
     "shell.execute_reply": "2025-08-10T15:59:11.128974Z"
    },
    "papermill": {
     "duration": 0.020792,
     "end_time": "2025-08-10T15:59:11.131227",
     "exception": false,
     "start_time": "2025-08-10T15:59:11.110435",
     "status": "completed"
    },
    "tags": []
   },
   "outputs": [],
   "source": [
    "def update_parameters(X_train, y_true, y_pred, w, b, learning_rate):\n",
    "    m = len(y_true)\n",
    "    db = np.sum(y_pred - y_true) / m\n",
    "    dw = np.dot(X_train.T, (y_pred - y_true)) / m  # shape (num_features,)\n",
    "    w -= learning_rate * dw\n",
    "    b -= learning_rate * db\n",
    "    return w, b"
   ]
  },
  {
   "cell_type": "code",
   "execution_count": 28,
   "id": "8bec3576",
   "metadata": {
    "execution": {
     "iopub.execute_input": "2025-08-10T15:59:11.158361Z",
     "iopub.status.busy": "2025-08-10T15:59:11.158094Z",
     "iopub.status.idle": "2025-08-10T15:59:11.164891Z",
     "shell.execute_reply": "2025-08-10T15:59:11.164006Z"
    },
    "papermill": {
     "duration": 0.022159,
     "end_time": "2025-08-10T15:59:11.166293",
     "exception": false,
     "start_time": "2025-08-10T15:59:11.144134",
     "status": "completed"
    },
    "tags": []
   },
   "outputs": [],
   "source": [
    "def run_gradient_descent(X_train, y_true, learning_rate, epochs, stopping_threshold=1e-6):\n",
    "    num_features = X_train.shape[1]  # number of columns\n",
    "    w, b = initialize(num_features)\n",
    "    previous_cost = None\n",
    "    cost_history = []\n",
    "\n",
    "    for epoch in range(epochs):\n",
    "        y_pred = predict_y(X_train, w, b)\n",
    "        cost = compute_cost(y_true, y_pred)\n",
    "\n",
    "        cost_history.append(cost)  # storing cost each iteration for later visualization\n",
    "\n",
    "        # Print progress\n",
    "        print(f\"Epoch {epoch+1}/{epochs} - Cost: {cost:.6f} - Weights: {w} - Bias: {b:.4f}\")\n",
    "\n",
    "        # Early stopping\n",
    "        if previous_cost and abs(previous_cost - cost) <= stopping_threshold:\n",
    "            print(f\"Early stopping at iteration {epoch+1} with cost change {abs(previous_cost - cost):.8f}\")\n",
    "            break\n",
    "\n",
    "        previous_cost = cost\n",
    "\n",
    "        # finally updating parameters\n",
    "        w, b = update_parameters(X_train, y_true, y_pred, w, b, learning_rate)\n",
    "\n",
    "    return w, b, cost_history"
   ]
  },
  {
   "cell_type": "markdown",
   "id": "719ba2b6",
   "metadata": {
    "papermill": {
     "duration": 0.012086,
     "end_time": "2025-08-10T15:59:11.191296",
     "exception": false,
     "start_time": "2025-08-10T15:59:11.179210",
     "status": "completed"
    },
    "tags": []
   },
   "source": [
    "## Tuning Hyperparameters for Gradient Descent\n",
    "A hyperparameter is something we set before training that controls the training process (it’s not learned from the data).\n",
    "- Learning Rate\n",
    "- Epochs"
   ]
  },
  {
   "cell_type": "code",
   "execution_count": 29,
   "id": "dced0020",
   "metadata": {
    "execution": {
     "iopub.execute_input": "2025-08-10T15:59:11.218121Z",
     "iopub.status.busy": "2025-08-10T15:59:11.217818Z",
     "iopub.status.idle": "2025-08-10T15:59:11.222337Z",
     "shell.execute_reply": "2025-08-10T15:59:11.221563Z"
    },
    "papermill": {
     "duration": 0.019888,
     "end_time": "2025-08-10T15:59:11.223933",
     "exception": false,
     "start_time": "2025-08-10T15:59:11.204045",
     "status": "completed"
    },
    "tags": []
   },
   "outputs": [],
   "source": [
    "## Learning rate controls how big a step our gradient descent algorithm takes when updating model parameters (w and b)\n",
    "learning_rate = 0.05\n",
    "## Epochs tell our algorithm how many times to go through the full training dataset.\n",
    "epochs = 5000 "
   ]
  },
  {
   "cell_type": "markdown",
   "id": "be1351d6",
   "metadata": {
    "papermill": {
     "duration": 0.012353,
     "end_time": "2025-08-10T15:59:11.249248",
     "exception": false,
     "start_time": "2025-08-10T15:59:11.236895",
     "status": "completed"
    },
    "tags": []
   },
   "source": [
    "## Training model with Gradient Descent"
   ]
  },
  {
   "cell_type": "code",
   "execution_count": 30,
   "id": "0798fef7",
   "metadata": {
    "execution": {
     "iopub.execute_input": "2025-08-10T15:59:11.278066Z",
     "iopub.status.busy": "2025-08-10T15:59:11.277751Z",
     "iopub.status.idle": "2025-08-10T15:59:11.318295Z",
     "shell.execute_reply": "2025-08-10T15:59:11.317322Z"
    },
    "papermill": {
     "duration": 0.057346,
     "end_time": "2025-08-10T15:59:11.320166",
     "exception": false,
     "start_time": "2025-08-10T15:59:11.262820",
     "status": "completed"
    },
    "tags": []
   },
   "outputs": [
    {
     "name": "stdout",
     "output_type": "stream",
     "text": [
      "Epoch 1/5000 - Cost: 807935.656329 - Weights: [0.20567713] - Bias: 0.3900\n",
      "Epoch 2/5000 - Cost: 729401.084670 - Weights: [4.64459511] - Bias: 63.6964\n",
      "Epoch 3/5000 - Cost: 658523.633748 - Weights: [8.8615672] - Bias: 123.8376\n",
      "Epoch 4/5000 - Cost: 594556.734291 - Weights: [12.86769068] - Bias: 180.9717\n",
      "Epoch 5/5000 - Cost: 536826.607530 - Weights: [16.67350798] - Bias: 235.2491\n",
      "Epoch 6/5000 - Cost: 484725.168129 - Weights: [20.28903442] - Bias: 286.8126\n",
      "Epoch 7/5000 - Cost: 437703.619070 - Weights: [23.72378454] - Bias: 335.7979\n",
      "Epoch 8/5000 - Cost: 395266.671044 - Weights: [26.98679715] - Bias: 382.3340\n",
      "Epoch 9/5000 - Cost: 356967.325450 - Weights: [30.08665913] - Bias: 426.5433\n",
      "Epoch 10/5000 - Cost: 322402.166052 - Weights: [33.03152802] - Bias: 468.5421\n",
      "Epoch 11/5000 - Cost: 291207.109695 - Weights: [35.82915346] - Bias: 508.4410\n",
      "Epoch 12/5000 - Cost: 263053.571333 - Weights: [38.48689762] - Bias: 546.3449\n",
      "Epoch 13/5000 - Cost: 237645.002961 - Weights: [41.01175458] - Bias: 582.3536\n",
      "Epoch 14/5000 - Cost: 214713.770006 - Weights: [43.41036869] - Bias: 616.5619\n",
      "Epoch 15/5000 - Cost: 194018.332263 - Weights: [45.6890521] - Bias: 649.0598\n",
      "Epoch 16/5000 - Cost: 175340.699701 - Weights: [47.85380133] - Bias: 679.9328\n",
      "Epoch 17/5000 - Cost: 158484.136313 - Weights: [49.9103131] - Bias: 709.2621\n",
      "Epoch 18/5000 - Cost: 143271.087856 - Weights: [51.86399929] - Bias: 737.1250\n",
      "Epoch 19/5000 - Cost: 129541.311623 - Weights: [53.72000116] - Bias: 763.5947\n",
      "Epoch 20/5000 - Cost: 117150.188573 - Weights: [55.48320294] - Bias: 788.7409\n",
      "Epoch 21/5000 - Cost: 105967.200020 - Weights: [57.15824464] - Bias: 812.6299\n",
      "Epoch 22/5000 - Cost: 95874.552852 - Weights: [58.74953424] - Bias: 835.3244\n",
      "Epoch 23/5000 - Cost: 86765.938782 - Weights: [60.26125937] - Bias: 856.8841\n",
      "Epoch 24/5000 - Cost: 78545.414584 - Weights: [61.69739824] - Bias: 877.3659\n",
      "Epoch 25/5000 - Cost: 71126.391495 - Weights: [63.06173017] - Bias: 896.8236\n",
      "Epoch 26/5000 - Cost: 64430.723157 - Weights: [64.3578455] - Bias: 915.3084\n",
      "Epoch 27/5000 - Cost: 58387.882483 - Weights: [65.58915507] - Bias: 932.8689\n",
      "Epoch 28/5000 - Cost: 52934.218774 - Weights: [66.75889915] - Bias: 949.5514\n",
      "Epoch 29/5000 - Cost: 48012.287277 - Weights: [67.87015603] - Bias: 965.3998\n",
      "Epoch 30/5000 - Cost: 43570.244100 - Weights: [68.92585007] - Bias: 980.4558\n",
      "Epoch 31/5000 - Cost: 39561.300134 - Weights: [69.92875941] - Bias: 994.7590\n",
      "Epoch 32/5000 - Cost: 35943.228204 - Weights: [70.88152328] - Bias: 1008.3470\n",
      "Epoch 33/5000 - Cost: 32677.918287 - Weights: [71.78664895] - Bias: 1021.2557\n",
      "Epoch 34/5000 - Cost: 29730.976087 - Weights: [72.64651834] - Bias: 1033.5188\n",
      "Epoch 35/5000 - Cost: 27071.360752 - Weights: [73.46339427] - Bias: 1045.1689\n",
      "Epoch 36/5000 - Cost: 24671.057912 - Weights: [74.23942639] - Bias: 1056.2364\n",
      "Epoch 37/5000 - Cost: 22504.784599 - Weights: [74.97665691] - Bias: 1066.7506\n",
      "Epoch 38/5000 - Cost: 20549.722933 - Weights: [75.67702591] - Bias: 1076.7390\n",
      "Epoch 39/5000 - Cost: 18785.279781 - Weights: [76.34237645] - Bias: 1086.2280\n",
      "Epoch 40/5000 - Cost: 17192.869835 - Weights: [76.97445947] - Bias: 1095.2426\n",
      "Epoch 41/5000 - Cost: 15755.719859 - Weights: [77.57493833] - Bias: 1103.8064\n",
      "Epoch 42/5000 - Cost: 14458.692006 - Weights: [78.14539326] - Bias: 1111.9421\n",
      "Epoch 43/5000 - Cost: 13288.124369 - Weights: [78.68732543] - Bias: 1119.6710\n",
      "Epoch 44/5000 - Cost: 12231.687076 - Weights: [79.202161] - Bias: 1127.0134\n",
      "Epoch 45/5000 - Cost: 11278.252419 - Weights: [79.69125479] - Bias: 1133.9887\n",
      "Epoch 46/5000 - Cost: 10417.777642 - Weights: [80.15589389] - Bias: 1140.6152\n",
      "Epoch 47/5000 - Cost: 9641.199155 - Weights: [80.59730103] - Bias: 1146.9104\n",
      "Epoch 48/5000 - Cost: 8940.337070 - Weights: [81.01663782] - Bias: 1152.8909\n",
      "Epoch 49/5000 - Cost: 8307.809039 - Weights: [81.41500777] - Bias: 1158.5723\n",
      "Epoch 50/5000 - Cost: 7736.952491 - Weights: [81.79345922] - Bias: 1163.9697\n",
      "Epoch 51/5000 - Cost: 7221.754456 - Weights: [82.1529881] - Bias: 1169.0972\n",
      "Epoch 52/5000 - Cost: 6756.788230 - Weights: [82.49454053] - Bias: 1173.9683\n",
      "Epoch 53/5000 - Cost: 6337.156211 - Weights: [82.81901535] - Bias: 1178.5959\n",
      "Epoch 54/5000 - Cost: 5958.438313 - Weights: [83.12726642] - Bias: 1182.9920\n",
      "Epoch 55/5000 - Cost: 5616.645411 - Weights: [83.42010494] - Bias: 1187.1684\n",
      "Epoch 56/5000 - Cost: 5308.177317 - Weights: [83.69830153] - Bias: 1191.1360\n",
      "Epoch 57/5000 - Cost: 5029.784861 - Weights: [83.96258829] - Bias: 1194.9051\n",
      "Epoch 58/5000 - Cost: 4778.535671 - Weights: [84.21366072] - Bias: 1198.4859\n",
      "Epoch 59/5000 - Cost: 4551.783276 - Weights: [84.45217952] - Bias: 1201.8875\n",
      "Epoch 60/5000 - Cost: 4347.139240 - Weights: [84.67877238] - Bias: 1205.1191\n",
      "Epoch 61/5000 - Cost: 4162.447997 - Weights: [84.89403561] - Bias: 1208.1891\n",
      "Epoch 62/5000 - Cost: 3995.764151 - Weights: [85.09853566] - Bias: 1211.1057\n",
      "Epoch 63/5000 - Cost: 3845.331979 - Weights: [85.29281072] - Bias: 1213.8764\n",
      "Epoch 64/5000 - Cost: 3709.566944 - Weights: [85.47737202] - Bias: 1216.5085\n",
      "Epoch 65/5000 - Cost: 3587.039000 - Weights: [85.65270526] - Bias: 1219.0091\n",
      "Epoch 66/5000 - Cost: 3476.457531 - Weights: [85.81927184] - Bias: 1221.3846\n",
      "Epoch 67/5000 - Cost: 3376.657755 - Weights: [85.97751009] - Bias: 1223.6413\n",
      "Epoch 68/5000 - Cost: 3286.588457 - Weights: [86.12783642] - Bias: 1225.7852\n",
      "Epoch 69/5000 - Cost: 3205.300916 - Weights: [86.27064644] - Bias: 1227.8219\n",
      "Epoch 70/5000 - Cost: 3131.938910 - Weights: [86.40631596] - Bias: 1229.7568\n",
      "Epoch 71/5000 - Cost: 3065.729699 - Weights: [86.535202] - Bias: 1231.5950\n",
      "Epoch 72/5000 - Cost: 3005.975887 - Weights: [86.65764374] - Bias: 1233.3412\n",
      "Epoch 73/5000 - Cost: 2952.048071 - Weights: [86.77396339] - Bias: 1235.0001\n",
      "Epoch 74/5000 - Cost: 2903.378217 - Weights: [86.88446706] - Bias: 1236.5761\n",
      "Epoch 75/5000 - Cost: 2859.453674 - Weights: [86.98944555] - Bias: 1238.0732\n",
      "Epoch 76/5000 - Cost: 2819.811774 - Weights: [87.08917511] - Bias: 1239.4955\n",
      "Epoch 77/5000 - Cost: 2784.034959 - Weights: [87.18391819] - Bias: 1240.8467\n",
      "Epoch 78/5000 - Cost: 2751.746384 - Weights: [87.27392412] - Bias: 1242.1304\n",
      "Epoch 79/5000 - Cost: 2722.605945 - Weights: [87.35942976] - Bias: 1243.3498\n",
      "Epoch 80/5000 - Cost: 2696.306698 - Weights: [87.44066011] - Bias: 1244.5083\n",
      "Epoch 81/5000 - Cost: 2672.571628 - Weights: [87.51782894] - Bias: 1245.6089\n",
      "Epoch 82/5000 - Cost: 2651.150728 - Weights: [87.59113933] - Bias: 1246.6544\n",
      "Epoch 83/5000 - Cost: 2631.818365 - Weights: [87.66078421] - Bias: 1247.6477\n",
      "Epoch 84/5000 - Cost: 2614.370908 - Weights: [87.72694684] - Bias: 1248.5913\n",
      "Epoch 85/5000 - Cost: 2598.624577 - Weights: [87.78980133] - Bias: 1249.4877\n",
      "Epoch 86/5000 - Cost: 2584.413514 - Weights: [87.84951311] - Bias: 1250.3393\n",
      "Epoch 87/5000 - Cost: 2571.588030 - Weights: [87.90623929] - Bias: 1251.1483\n",
      "Epoch 88/5000 - Cost: 2560.013030 - Weights: [87.96012917] - Bias: 1251.9168\n",
      "Epoch 89/5000 - Cost: 2549.566593 - Weights: [88.01132455] - Bias: 1252.6470\n",
      "Epoch 90/5000 - Cost: 2540.138683 - Weights: [88.05996016] - Bias: 1253.3406\n",
      "Epoch 91/5000 - Cost: 2531.629995 - Weights: [88.10616399] - Bias: 1253.9995\n",
      "Epoch 92/5000 - Cost: 2523.950903 - Weights: [88.15005763] - Bias: 1254.6255\n",
      "Epoch 93/5000 - Cost: 2517.020524 - Weights: [88.19175659] - Bias: 1255.2202\n",
      "Epoch 94/5000 - Cost: 2510.765856 - Weights: [88.2313706] - Bias: 1255.7852\n",
      "Epoch 95/5000 - Cost: 2505.121018 - Weights: [88.26900391] - Bias: 1256.3219\n",
      "Epoch 96/5000 - Cost: 2500.026552 - Weights: [88.30475555] - Bias: 1256.8318\n",
      "Epoch 97/5000 - Cost: 2495.428796 - Weights: [88.33871961] - Bias: 1257.3162\n",
      "Epoch 98/5000 - Cost: 2491.279322 - Weights: [88.37098547] - Bias: 1257.7763\n",
      "Epoch 99/5000 - Cost: 2487.534421 - Weights: [88.40163804] - Bias: 1258.2135\n",
      "Epoch 100/5000 - Cost: 2484.154648 - Weights: [88.43075798] - Bias: 1258.6288\n",
      "Epoch 101/5000 - Cost: 2481.104403 - Weights: [88.45842192] - Bias: 1259.0233\n",
      "Epoch 102/5000 - Cost: 2478.351557 - Weights: [88.48470266] - Bias: 1259.3981\n",
      "Epoch 103/5000 - Cost: 2475.867113 - Weights: [88.50966937] - Bias: 1259.7542\n",
      "Epoch 104/5000 - Cost: 2473.624903 - Weights: [88.53338774] - Bias: 1260.0925\n",
      "Epoch 105/5000 - Cost: 2471.601308 - Weights: [88.55592019] - Bias: 1260.4138\n",
      "Epoch 106/5000 - Cost: 2469.775014 - Weights: [88.57732602] - Bias: 1260.7191\n",
      "Epoch 107/5000 - Cost: 2468.126783 - Weights: [88.59766156] - Bias: 1261.0091\n",
      "Epoch 108/5000 - Cost: 2466.639255 - Weights: [88.61698032] - Bias: 1261.2846\n",
      "Epoch 109/5000 - Cost: 2465.296761 - Weights: [88.63533314] - Bias: 1261.5464\n",
      "Epoch 110/5000 - Cost: 2464.085160 - Weights: [88.65276833] - Bias: 1261.7950\n",
      "Epoch 111/5000 - Cost: 2462.991690 - Weights: [88.66933175] - Bias: 1262.0313\n",
      "Epoch 112/5000 - Cost: 2462.004833 - Weights: [88.685067] - Bias: 1262.2557\n",
      "Epoch 113/5000 - Cost: 2461.114195 - Weights: [88.70001549] - Bias: 1262.4689\n",
      "Epoch 114/5000 - Cost: 2460.310394 - Weights: [88.71421656] - Bias: 1262.6714\n",
      "Epoch 115/5000 - Cost: 2459.584964 - Weights: [88.72770757] - Bias: 1262.8638\n",
      "Epoch 116/5000 - Cost: 2458.930263 - Weights: [88.74052403] - Bias: 1263.0466\n",
      "Epoch 117/5000 - Cost: 2458.339396 - Weights: [88.75269967] - Bias: 1263.2202\n",
      "Epoch 118/5000 - Cost: 2457.806138 - Weights: [88.76426652] - Bias: 1263.3852\n",
      "Epoch 119/5000 - Cost: 2457.324873 - Weights: [88.77525504] - Bias: 1263.5419\n",
      "Epoch 120/5000 - Cost: 2456.890531 - Weights: [88.78569412] - Bias: 1263.6908\n",
      "Epoch 121/5000 - Cost: 2456.498537 - Weights: [88.79561126] - Bias: 1263.8322\n",
      "Epoch 122/5000 - Cost: 2456.144763 - Weights: [88.80503253] - Bias: 1263.9666\n",
      "Epoch 123/5000 - Cost: 2455.825482 - Weights: [88.81398275] - Bias: 1264.0942\n",
      "Epoch 124/5000 - Cost: 2455.537331 - Weights: [88.82248545] - Bias: 1264.2155\n",
      "Epoch 125/5000 - Cost: 2455.277274 - Weights: [88.83056302] - Bias: 1264.3307\n",
      "Epoch 126/5000 - Cost: 2455.042573 - Weights: [88.8382367] - Bias: 1264.4401\n",
      "Epoch 127/5000 - Cost: 2454.830755 - Weights: [88.84552671] - Bias: 1264.5441\n",
      "Epoch 128/5000 - Cost: 2454.639590 - Weights: [88.85245221] - Bias: 1264.6429\n",
      "Epoch 129/5000 - Cost: 2454.467063 - Weights: [88.85903144] - Bias: 1264.7367\n",
      "Epoch 130/5000 - Cost: 2454.311358 - Weights: [88.86528171] - Bias: 1264.8258\n",
      "Epoch 131/5000 - Cost: 2454.170833 - Weights: [88.87121946] - Bias: 1264.9105\n",
      "Epoch 132/5000 - Cost: 2454.044010 - Weights: [88.87686033] - Bias: 1264.9910\n",
      "Epoch 133/5000 - Cost: 2453.929552 - Weights: [88.88221915] - Bias: 1265.0674\n",
      "Epoch 134/5000 - Cost: 2453.826254 - Weights: [88.88731003] - Bias: 1265.1400\n",
      "Epoch 135/5000 - Cost: 2453.733028 - Weights: [88.89214637] - Bias: 1265.2090\n",
      "Epoch 136/5000 - Cost: 2453.648891 - Weights: [88.89674089] - Bias: 1265.2745\n",
      "Epoch 137/5000 - Cost: 2453.572957 - Weights: [88.90110569] - Bias: 1265.3367\n",
      "Epoch 138/5000 - Cost: 2453.504427 - Weights: [88.90525224] - Bias: 1265.3959\n",
      "Epoch 139/5000 - Cost: 2453.442578 - Weights: [88.90919147] - Bias: 1265.4521\n",
      "Epoch 140/5000 - Cost: 2453.386760 - Weights: [88.91293374] - Bias: 1265.5054\n",
      "Epoch 141/5000 - Cost: 2453.336384 - Weights: [88.91648889] - Bias: 1265.5561\n",
      "Epoch 142/5000 - Cost: 2453.290920 - Weights: [88.91986628] - Bias: 1265.6043\n",
      "Epoch 143/5000 - Cost: 2453.249888 - Weights: [88.92307481] - Bias: 1265.6501\n",
      "Epoch 144/5000 - Cost: 2453.212858 - Weights: [88.92612291] - Bias: 1265.6935\n",
      "Epoch 145/5000 - Cost: 2453.179437 - Weights: [88.9290186] - Bias: 1265.7348\n",
      "Epoch 146/5000 - Cost: 2453.149275 - Weights: [88.93176951] - Bias: 1265.7741\n",
      "Epoch 147/5000 - Cost: 2453.122054 - Weights: [88.93438287] - Bias: 1265.8113\n",
      "Epoch 148/5000 - Cost: 2453.097487 - Weights: [88.93686557] - Bias: 1265.8467\n",
      "Epoch 149/5000 - Cost: 2453.075315 - Weights: [88.93922413] - Bias: 1265.8804\n",
      "Epoch 150/5000 - Cost: 2453.055305 - Weights: [88.94146476] - Bias: 1265.9123\n",
      "Epoch 151/5000 - Cost: 2453.037246 - Weights: [88.94359337] - Bias: 1265.9427\n",
      "Epoch 152/5000 - Cost: 2453.020948 - Weights: [88.94561554] - Bias: 1265.9715\n",
      "Epoch 153/5000 - Cost: 2453.006239 - Weights: [88.9475366] - Bias: 1265.9989\n",
      "Epoch 154/5000 - Cost: 2452.992963 - Weights: [88.94936161] - Bias: 1266.0250\n",
      "Epoch 155/5000 - Cost: 2452.980983 - Weights: [88.95109537] - Bias: 1266.0497\n",
      "Epoch 156/5000 - Cost: 2452.970170 - Weights: [88.95274244] - Bias: 1266.0732\n",
      "Epoch 157/5000 - Cost: 2452.960412 - Weights: [88.95430716] - Bias: 1266.0955\n",
      "Epoch 158/5000 - Cost: 2452.951605 - Weights: [88.95579364] - Bias: 1266.1167\n",
      "Epoch 159/5000 - Cost: 2452.943656 - Weights: [88.9572058] - Bias: 1266.1368\n",
      "Epoch 160/5000 - Cost: 2452.936483 - Weights: [88.95854735] - Bias: 1266.1560\n",
      "Epoch 161/5000 - Cost: 2452.930009 - Weights: [88.95982182] - Bias: 1266.1741\n",
      "Epoch 162/5000 - Cost: 2452.924166 - Weights: [88.96103257] - Bias: 1266.1914\n",
      "Epoch 163/5000 - Cost: 2452.918893 - Weights: [88.96218278] - Bias: 1266.2078\n",
      "Epoch 164/5000 - Cost: 2452.914135 - Weights: [88.96327548] - Bias: 1266.2234\n",
      "Epoch 165/5000 - Cost: 2452.909840 - Weights: [88.96431354] - Bias: 1266.2382\n",
      "Epoch 166/5000 - Cost: 2452.905963 - Weights: [88.96529971] - Bias: 1266.2523\n",
      "Epoch 167/5000 - Cost: 2452.902465 - Weights: [88.96623656] - Bias: 1266.2656\n",
      "Epoch 168/5000 - Cost: 2452.899308 - Weights: [88.96712657] - Bias: 1266.2783\n",
      "Epoch 169/5000 - Cost: 2452.896459 - Weights: [88.96797208] - Bias: 1266.2904\n",
      "Epoch 170/5000 - Cost: 2452.893887 - Weights: [88.96877532] - Bias: 1266.3018\n",
      "Epoch 171/5000 - Cost: 2452.891566 - Weights: [88.96953839] - Bias: 1266.3127\n",
      "Epoch 172/5000 - Cost: 2452.889472 - Weights: [88.97026331] - Bias: 1266.3230\n",
      "Epoch 173/5000 - Cost: 2452.887581 - Weights: [88.97095198] - Bias: 1266.3329\n",
      "Epoch 174/5000 - Cost: 2452.885875 - Weights: [88.97160623] - Bias: 1266.3422\n",
      "Epoch 175/5000 - Cost: 2452.884336 - Weights: [88.97222775] - Bias: 1266.3511\n",
      "Epoch 176/5000 - Cost: 2452.882946 - Weights: [88.97281821] - Bias: 1266.3595\n",
      "Epoch 177/5000 - Cost: 2452.881692 - Weights: [88.97337913] - Bias: 1266.3675\n",
      "Epoch 178/5000 - Cost: 2452.880560 - Weights: [88.97391202] - Bias: 1266.3751\n",
      "Epoch 179/5000 - Cost: 2452.879539 - Weights: [88.97441826] - Bias: 1266.3823\n",
      "Epoch 180/5000 - Cost: 2452.878617 - Weights: [88.97489918] - Bias: 1266.3892\n",
      "Epoch 181/5000 - Cost: 2452.877785 - Weights: [88.97535606] - Bias: 1266.3957\n",
      "Epoch 182/5000 - Cost: 2452.877034 - Weights: [88.9757901] - Bias: 1266.4019\n",
      "Epoch 183/5000 - Cost: 2452.876357 - Weights: [88.97620243] - Bias: 1266.4077\n",
      "Epoch 184/5000 - Cost: 2452.875745 - Weights: [88.97659415] - Bias: 1266.4133\n",
      "Epoch 185/5000 - Cost: 2452.875193 - Weights: [88.97696628] - Bias: 1266.4186\n",
      "Epoch 186/5000 - Cost: 2452.874695 - Weights: [88.97731981] - Bias: 1266.4237\n",
      "Epoch 187/5000 - Cost: 2452.874245 - Weights: [88.97765566] - Bias: 1266.4285\n",
      "Epoch 188/5000 - Cost: 2452.873840 - Weights: [88.97797471] - Bias: 1266.4330\n",
      "Epoch 189/5000 - Cost: 2452.873473 - Weights: [88.97827782] - Bias: 1266.4373\n",
      "Epoch 190/5000 - Cost: 2452.873143 - Weights: [88.97856577] - Bias: 1266.4415\n",
      "Epoch 191/5000 - Cost: 2452.872845 - Weights: [88.97883932] - Bias: 1266.4454\n",
      "Epoch 192/5000 - Cost: 2452.872576 - Weights: [88.97909919] - Bias: 1266.4491\n",
      "Epoch 193/5000 - Cost: 2452.872333 - Weights: [88.97934607] - Bias: 1266.4526\n",
      "Epoch 194/5000 - Cost: 2452.872113 - Weights: [88.97958061] - Bias: 1266.4559\n",
      "Epoch 195/5000 - Cost: 2452.871915 - Weights: [88.97980342] - Bias: 1266.4591\n",
      "Epoch 196/5000 - Cost: 2452.871737 - Weights: [88.98001508] - Bias: 1266.4621\n",
      "Epoch 197/5000 - Cost: 2452.871576 - Weights: [88.98021617] - Bias: 1266.4650\n",
      "Epoch 198/5000 - Cost: 2452.871430 - Weights: [88.9804072] - Bias: 1266.4677\n",
      "Epoch 199/5000 - Cost: 2452.871299 - Weights: [88.98058868] - Bias: 1266.4703\n",
      "Epoch 200/5000 - Cost: 2452.871181 - Weights: [88.98076109] - Bias: 1266.4728\n",
      "Epoch 201/5000 - Cost: 2452.871074 - Weights: [88.98092487] - Bias: 1266.4751\n",
      "Epoch 202/5000 - Cost: 2452.870977 - Weights: [88.98108047] - Bias: 1266.4773\n",
      "Epoch 203/5000 - Cost: 2452.870890 - Weights: [88.98122828] - Bias: 1266.4794\n",
      "Epoch 204/5000 - Cost: 2452.870811 - Weights: [88.98136871] - Bias: 1266.4814\n",
      "Epoch 205/5000 - Cost: 2452.870741 - Weights: [88.98150211] - Bias: 1266.4833\n",
      "Epoch 206/5000 - Cost: 2452.870677 - Weights: [88.98162885] - Bias: 1266.4851\n",
      "Epoch 207/5000 - Cost: 2452.870619 - Weights: [88.98174924] - Bias: 1266.4869\n",
      "Epoch 208/5000 - Cost: 2452.870567 - Weights: [88.98186362] - Bias: 1266.4885\n",
      "Epoch 209/5000 - Cost: 2452.870520 - Weights: [88.98197228] - Bias: 1266.4900\n",
      "Epoch 210/5000 - Cost: 2452.870477 - Weights: [88.9820755] - Bias: 1266.4915\n",
      "Epoch 211/5000 - Cost: 2452.870439 - Weights: [88.98217357] - Bias: 1266.4929\n",
      "Epoch 212/5000 - Cost: 2452.870404 - Weights: [88.98226673] - Bias: 1266.4942\n",
      "Epoch 213/5000 - Cost: 2452.870373 - Weights: [88.98235523] - Bias: 1266.4955\n",
      "Epoch 214/5000 - Cost: 2452.870345 - Weights: [88.98243931] - Bias: 1266.4967\n",
      "Epoch 215/5000 - Cost: 2452.870319 - Weights: [88.98251918] - Bias: 1266.4978\n",
      "Epoch 216/5000 - Cost: 2452.870296 - Weights: [88.98259506] - Bias: 1266.4989\n",
      "Epoch 217/5000 - Cost: 2452.870276 - Weights: [88.98266715] - Bias: 1266.4999\n",
      "Epoch 218/5000 - Cost: 2452.870257 - Weights: [88.98273563] - Bias: 1266.5009\n",
      "Epoch 219/5000 - Cost: 2452.870240 - Weights: [88.98280069] - Bias: 1266.5019\n",
      "Epoch 220/5000 - Cost: 2452.870225 - Weights: [88.9828625] - Bias: 1266.5027\n",
      "Epoch 221/5000 - Cost: 2452.870211 - Weights: [88.98292121] - Bias: 1266.5036\n",
      "Epoch 222/5000 - Cost: 2452.870199 - Weights: [88.98297699] - Bias: 1266.5044\n",
      "Epoch 223/5000 - Cost: 2452.870188 - Weights: [88.98302998] - Bias: 1266.5051\n",
      "Epoch 224/5000 - Cost: 2452.870177 - Weights: [88.98308032] - Bias: 1266.5058\n",
      "Epoch 225/5000 - Cost: 2452.870168 - Weights: [88.98312814] - Bias: 1266.5065\n",
      "Epoch 226/5000 - Cost: 2452.870160 - Weights: [88.98317358] - Bias: 1266.5072\n",
      "Epoch 227/5000 - Cost: 2452.870153 - Weights: [88.98321674] - Bias: 1266.5078\n",
      "Epoch 228/5000 - Cost: 2452.870146 - Weights: [88.98325774] - Bias: 1266.5084\n",
      "Epoch 229/5000 - Cost: 2452.870140 - Weights: [88.98329669] - Bias: 1266.5089\n",
      "Epoch 230/5000 - Cost: 2452.870134 - Weights: [88.9833337] - Bias: 1266.5095\n",
      "Epoch 231/5000 - Cost: 2452.870130 - Weights: [88.98336885] - Bias: 1266.5100\n",
      "Epoch 232/5000 - Cost: 2452.870125 - Weights: [88.98340225] - Bias: 1266.5104\n",
      "Epoch 233/5000 - Cost: 2452.870121 - Weights: [88.98343397] - Bias: 1266.5109\n",
      "Epoch 234/5000 - Cost: 2452.870117 - Weights: [88.98346412] - Bias: 1266.5113\n",
      "Epoch 235/5000 - Cost: 2452.870114 - Weights: [88.98349275] - Bias: 1266.5117\n",
      "Epoch 236/5000 - Cost: 2452.870111 - Weights: [88.98351995] - Bias: 1266.5121\n",
      "Epoch 237/5000 - Cost: 2452.870109 - Weights: [88.98354579] - Bias: 1266.5125\n",
      "Epoch 238/5000 - Cost: 2452.870106 - Weights: [88.98357034] - Bias: 1266.5128\n",
      "Epoch 239/5000 - Cost: 2452.870104 - Weights: [88.98359367] - Bias: 1266.5132\n",
      "Epoch 240/5000 - Cost: 2452.870102 - Weights: [88.98361582] - Bias: 1266.5135\n",
      "Epoch 241/5000 - Cost: 2452.870100 - Weights: [88.98363687] - Bias: 1266.5138\n",
      "Epoch 242/5000 - Cost: 2452.870099 - Weights: [88.98365687] - Bias: 1266.5141\n",
      "Epoch 243/5000 - Cost: 2452.870097 - Weights: [88.98367586] - Bias: 1266.5143\n",
      "Epoch 244/5000 - Cost: 2452.870096 - Weights: [88.98369391] - Bias: 1266.5146\n",
      "Epoch 245/5000 - Cost: 2452.870095 - Weights: [88.98371105] - Bias: 1266.5148\n",
      "Epoch 246/5000 - Cost: 2452.870094 - Weights: [88.98372734] - Bias: 1266.5151\n",
      "Epoch 247/5000 - Cost: 2452.870093 - Weights: [88.98374281] - Bias: 1266.5153\n",
      "Early stopping at iteration 247 with cost change 0.00000095\n"
     ]
    }
   ],
   "source": [
    "w, b, cost_history = run_gradient_descent(X_train.reshape(-1, 1), y_train, learning_rate, epochs)"
   ]
  },
  {
   "cell_type": "code",
   "execution_count": 31,
   "id": "6a7434c1",
   "metadata": {
    "execution": {
     "iopub.execute_input": "2025-08-10T15:59:11.348370Z",
     "iopub.status.busy": "2025-08-10T15:59:11.348096Z",
     "iopub.status.idle": "2025-08-10T15:59:11.353611Z",
     "shell.execute_reply": "2025-08-10T15:59:11.352581Z"
    },
    "papermill": {
     "duration": 0.021092,
     "end_time": "2025-08-10T15:59:11.354958",
     "exception": false,
     "start_time": "2025-08-10T15:59:11.333866",
     "status": "completed"
    },
    "tags": []
   },
   "outputs": [
    {
     "name": "stdout",
     "output_type": "stream",
     "text": [
      "Learned weights: [88.98374281]\n",
      "Learned bias: 1266.5152879039617\n",
      "Final cost: 2452.870093\n"
     ]
    }
   ],
   "source": [
    "print(f\"Learned weights: {w}\")\n",
    "print(f\"Learned bias: {b}\")\n",
    "print(f\"Final cost: {cost_history[-1]:.6f}\")"
   ]
  },
  {
   "cell_type": "code",
   "execution_count": 32,
   "id": "b72119f6",
   "metadata": {
    "execution": {
     "iopub.execute_input": "2025-08-10T15:59:11.384528Z",
     "iopub.status.busy": "2025-08-10T15:59:11.384213Z",
     "iopub.status.idle": "2025-08-10T15:59:11.650647Z",
     "shell.execute_reply": "2025-08-10T15:59:11.649682Z"
    },
    "papermill": {
     "duration": 0.282777,
     "end_time": "2025-08-10T15:59:11.652396",
     "exception": false,
     "start_time": "2025-08-10T15:59:11.369619",
     "status": "completed"
    },
    "tags": []
   },
   "outputs": [
    {
     "data": {
      "image/png": "[encoded data removed]",
      "text/plain": [
       "<Figure size 2000x1000 with 1 Axes>"
      ]
     },
     "metadata": {},
     "output_type": "display_data"
    }
   ],
   "source": [
    "# Plotting convergence\n",
    "plt.plot(range(1, len(cost_history) + 1), cost_history, color='blue')\n",
    "plt.grid()\n",
    "plt.xlabel('Iterations')\n",
    "plt.ylabel('Cost (J)')\n",
    "plt.title('Convergence of Gradient Descent (Single Feature)')\n",
    "plt.show()"
   ]
  },
  {
   "cell_type": "markdown",
   "id": "af5ec2a6",
   "metadata": {
    "papermill": {
     "duration": 0.014054,
     "end_time": "2025-08-10T15:59:11.681313",
     "exception": false,
     "start_time": "2025-08-10T15:59:11.667259",
     "status": "completed"
    },
    "tags": []
   },
   "source": [
    "## Final Results & Evaluation"
   ]
  },
  {
   "cell_type": "code",
   "execution_count": 33,
   "id": "3a173c3f",
   "metadata": {
    "execution": {
     "iopub.execute_input": "2025-08-10T15:59:11.711646Z",
     "iopub.status.busy": "2025-08-10T15:59:11.711296Z",
     "iopub.status.idle": "2025-08-10T15:59:11.717296Z",
     "shell.execute_reply": "2025-08-10T15:59:11.716219Z"
    },
    "papermill": {
     "duration": 0.023663,
     "end_time": "2025-08-10T15:59:11.719015",
     "exception": false,
     "start_time": "2025-08-10T15:59:11.695352",
     "status": "completed"
    },
    "tags": []
   },
   "outputs": [
    {
     "name": "stdout",
     "output_type": "stream",
     "text": [
      "MSE (Mean Squared Error):  3991.7973471484943\n",
      "RMSE (Root Mean Squared Error):  63.18067225939033\n",
      "R^2 (Coefficient of determination):  0.598776985144291\n"
     ]
    }
   ],
   "source": [
    "y_pred = predict_y(X_test, w, b)\n",
    "mse, rmse, r2 = evaluate_ols(y_test, y_pred)\n",
    "print(\"MSE (Mean Squared Error): \", mse)\n",
    "print(\"RMSE (Root Mean Squared Error): \", rmse)\n",
    "print(\"R^2 (Coefficient of determination): \", r2)"
   ]
  },
  {
   "cell_type": "markdown",
   "id": "9140b682",
   "metadata": {
    "papermill": {
     "duration": 0.015551,
     "end_time": "2025-08-10T15:59:11.748815",
     "exception": false,
     "start_time": "2025-08-10T15:59:11.733264",
     "status": "completed"
    },
    "tags": []
   },
   "source": [
    "#### Not much difference through Gradient Descent too. \n",
    "#### BUT We should definitely try out other ML models with tweaks and other useful techniques while researching and experimenting as a great ML Engineer or a Data Scientist."
   ]
  },
  {
   "cell_type": "markdown",
   "id": "8e27caa8",
   "metadata": {
    "papermill": {
     "duration": 0.014154,
     "end_time": "2025-08-10T15:59:11.778139",
     "exception": false,
     "start_time": "2025-08-10T15:59:11.763985",
     "status": "completed"
    },
    "tags": []
   },
   "source": [
    "## Saving the Model"
   ]
  },
  {
   "cell_type": "code",
   "execution_count": 34,
   "id": "34756ebe",
   "metadata": {
    "execution": {
     "iopub.execute_input": "2025-08-10T15:59:11.808827Z",
     "iopub.status.busy": "2025-08-10T15:59:11.808490Z",
     "iopub.status.idle": "2025-08-10T15:59:11.813820Z",
     "shell.execute_reply": "2025-08-10T15:59:11.812855Z"
    },
    "papermill": {
     "duration": 0.02328,
     "end_time": "2025-08-10T15:59:11.815579",
     "exception": false,
     "start_time": "2025-08-10T15:59:11.792299",
     "status": "completed"
    },
    "tags": []
   },
   "outputs": [],
   "source": [
    "def save_model(w, b, learning_rate=None, convergence_tol=None, filename=\"linear_regression_model.pkl\"):\n",
    "    model_data = {\n",
    "        'learning_rate': learning_rate,\n",
    "        'convergence_tol': convergence_tol,\n",
    "        'W': w,\n",
    "        'b': b\n",
    "    }\n",
    "    with open(filename, 'wb') as file:\n",
    "        pickle.dump(model_data, file)\n",
    "    print(f\"Model saved successfully to {filename}\")"
   ]
  },
  {
   "cell_type": "code",
   "execution_count": 35,
   "id": "7bb8f428",
   "metadata": {
    "execution": {
     "iopub.execute_input": "2025-08-10T15:59:11.846445Z",
     "iopub.status.busy": "2025-08-10T15:59:11.846142Z",
     "iopub.status.idle": "2025-08-10T15:59:11.851415Z",
     "shell.execute_reply": "2025-08-10T15:59:11.850522Z"
    },
    "papermill": {
     "duration": 0.022757,
     "end_time": "2025-08-10T15:59:11.853008",
     "exception": false,
     "start_time": "2025-08-10T15:59:11.830251",
     "status": "completed"
    },
    "tags": []
   },
   "outputs": [
    {
     "name": "stdout",
     "output_type": "stream",
     "text": [
      "Model saved successfully to my_lr_model.pkl\n"
     ]
    }
   ],
   "source": [
    "save_model(w=w, b=b, learning_rate=0.01, convergence_tol=1e-6, filename=\"my_lr_model.pkl\")"
   ]
  },
  {
   "cell_type": "code",
   "execution_count": 36,
   "id": "b5175434",
   "metadata": {
    "execution": {
     "iopub.execute_input": "2025-08-10T15:59:11.885248Z",
     "iopub.status.busy": "2025-08-10T15:59:11.884557Z",
     "iopub.status.idle": "2025-08-10T15:59:11.889917Z",
     "shell.execute_reply": "2025-08-10T15:59:11.888985Z"
    },
    "papermill": {
     "duration": 0.023592,
     "end_time": "2025-08-10T15:59:11.891573",
     "exception": false,
     "start_time": "2025-08-10T15:59:11.867981",
     "status": "completed"
    },
    "tags": []
   },
   "outputs": [
    {
     "name": "stdout",
     "output_type": "stream",
     "text": [
      "{'learning_rate': 0.01, 'convergence_tol': 1e-06, 'W': array([88.98374281]), 'b': 1266.5152879039617}\n"
     ]
    }
   ],
   "source": [
    "## Later we can load the model to use it.\n",
    "with open(\"my_lr_model.pkl\", \"rb\") as f:\n",
    "    model = pickle.load(f)\n",
    "print(model)"
   ]
  },
  {
   "cell_type": "markdown",
   "id": "25ceea78",
   "metadata": {
    "papermill": {
     "duration": 0.014332,
     "end_time": "2025-08-10T15:59:11.921621",
     "exception": false,
     "start_time": "2025-08-10T15:59:11.907289",
     "status": "completed"
    },
    "tags": []
   },
   "source": [
    "## Final Conclusion\n",
    "\n",
    "### This project implemented Single Variable Linear Regression from scratch and applied it to the Head Size vs Brain Weight dataset.\n",
    "\n",
    "### Key Findings\n",
    "1. The correlation analysis showed a strong positive correlation between Head Size and Brain Weight, confirming that a linear model is a reasonable first choice.\n",
    "2. The final model achieved:\n",
    "    - MSE (Mean Squared Error):  3991.7974005400197\n",
    "    - RMSE (Root Mean Squared Error):  63.18067268192085\n",
    "    - R^2 (Coefficient of determination):  0.5987769797778089\n",
    "3. This means the model explains about around 59.8% of the variance in brain weight from head size alone.\n",
    "\n",
    "### Limitations\n",
    "1. The dataset is small (n=237), which limits model generalization.\n",
    "2. Categorical features like Gender and Age Range were present but had weak correlation with the target, so they were not strongly beneficial in this simple linear regression model.\n",
    "3. The relationship between features and target is likely not purely linear — more complex patterns could be captured with polynomial features or non-linear models.\n",
    "\n",
    "### Next Steps for Improvement\n",
    "1. Try polynomial regression to capture non-linear relationships.\n",
    "2. By Modeling and compare results with multiple regression using all available features.\n",
    "3. Trying regularization (Ridge/Lasso) techniques."
   ]
  }
 ],
 "metadata": {
  "kaggle": {
   "accelerator": "none",
   "dataSources": [
    {
     "datasetId": 2746192,
     "sourceId": 4745474,
     "sourceType": "datasetVersion"
    }
   ],
   "dockerImageVersionId": 31089,
   "isGpuEnabled": false,
   "isInternetEnabled": true,
   "language": "python",
   "sourceType": "notebook"
  },
  "kernelspec": {
   "display_name": "Python 3",
   "language": "python",
   "name": "python3"
  },
  "language_info": {
   "codemirror_mode": {
    "name": "ipython",
    "version": 3
   },
   "file_extension": ".py",
   "mimetype": "text/x-python",
   "name": "python",
   "nbconvert_exporter": "python",
   "pygments_lexer": "ipython3",
   "version": "3.11.13"
  },
  "papermill": {
   "default_parameters": {},
   "duration": 14.029893,
   "end_time": "2025-08-10T15:59:12.656772",
   "environment_variables": {},
   "exception": null,
   "input_path": "__notebook__.ipynb",
   "output_path": "__notebook__.ipynb",
   "parameters": {},
   "start_time": "2025-08-10T15:58:58.626879",
   "version": "2.6.0"
  }
 },
 "nbformat": 4,
 "nbformat_minor": 5
}
