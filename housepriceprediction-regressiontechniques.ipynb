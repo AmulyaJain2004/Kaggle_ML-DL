{
 "cells": [
  {
   "cell_type": "markdown",
   "id": "c49ec4f2",
   "metadata": {
    "papermill": {
     "duration": 0.007625,
     "end_time": "2025-07-09T09:47:20.009610",
     "exception": false,
     "start_time": "2025-07-09T09:47:20.001985",
     "status": "completed"
    },
    "tags": []
   },
   "source": [
    "Intro to Notebook"
   ]
  },
  {
   "cell_type": "markdown",
   "id": "7f61c482",
   "metadata": {
    "papermill": {
     "duration": 0.0052,
     "end_time": "2025-07-09T09:47:20.020409",
     "exception": false,
     "start_time": "2025-07-09T09:47:20.015209",
     "status": "completed"
    },
    "tags": []
   },
   "source": [
    "1️⃣ Problem Definition\n",
    "Predict house price based on features like area, number of bedrooms, bathrooms, and amenities.\n",
    "\n",
    "Regression problem (continuous output)."
   ]
  },
  {
   "cell_type": "code",
   "execution_count": 1,
   "id": "cf367c5a",
   "metadata": {
    "_cell_guid": "b1076dfc-b9ad-4769-8c92-a6c4dae69d19",
    "_uuid": "8f2839f25d086af736a60e9eeb907d3b93b6e0e5",
    "execution": {
     "iopub.execute_input": "2025-07-09T09:47:20.032929Z",
     "iopub.status.busy": "2025-07-09T09:47:20.032572Z",
     "iopub.status.idle": "2025-07-09T09:47:23.177616Z",
     "shell.execute_reply": "2025-07-09T09:47:23.176334Z"
    },
    "papermill": {
     "duration": 3.153684,
     "end_time": "2025-07-09T09:47:23.179847",
     "exception": false,
     "start_time": "2025-07-09T09:47:20.026163",
     "status": "completed"
    },
    "tags": []
   },
   "outputs": [
    {
     "name": "stdout",
     "output_type": "stream",
     "text": [
      "/kaggle/input/housing-prices-dataset/Housing.csv\n"
     ]
    }
   ],
   "source": [
    "# This Python 3 environment comes with many helpful analytics libraries installed\n",
    "# It is defined by the kaggle/python Docker image: https://github.com/kaggle/docker-python\n",
    "# For example, here's several helpful packages to load\n",
    "\n",
    "import numpy as np # linear algebra\n",
    "import pandas as pd # data processing, CSV file I/O (e.g. pd.read_csv)\n",
    "import seaborn as sns\n",
    "import matplotlib.pyplot as plt\n",
    "# Input data files are available in the read-only \"../input/\" directory\n",
    "# For example, running this (by clicking run or pressing Shift+Enter) will list all files under the input directory\n",
    "\n",
    "import os\n",
    "for dirname, _, filenames in os.walk('/kaggle/input'):\n",
    "    for filename in filenames:\n",
    "        print(os.path.join(dirname, filename))\n",
    "\n",
    "# You can write up to 20GB to the current directory (/kaggle/working/) that gets preserved as output when you create a version using \"Save & Run All\" \n",
    "# You can also write temporary files to /kaggle/temp/, but they won't be saved outside of the current session"
   ]
  },
  {
   "cell_type": "markdown",
   "id": "43524c6f",
   "metadata": {
    "papermill": {
     "duration": 0.005269,
     "end_time": "2025-07-09T09:47:23.191450",
     "exception": false,
     "start_time": "2025-07-09T09:47:23.186181",
     "status": "completed"
    },
    "tags": []
   },
   "source": [
    "Hi, Everyone!!\n",
    "We will analyze data and apply machine learning by asking questions ?"
   ]
  },
  {
   "cell_type": "markdown",
   "id": "bd134e8b",
   "metadata": {
    "papermill": {
     "duration": 0.005187,
     "end_time": "2025-07-09T09:47:23.202270",
     "exception": false,
     "start_time": "2025-07-09T09:47:23.197083",
     "status": "completed"
    },
    "tags": []
   },
   "source": [
    "Where is my data ?"
   ]
  },
  {
   "cell_type": "code",
   "execution_count": 2,
   "id": "9bb69d95",
   "metadata": {
    "execution": {
     "iopub.execute_input": "2025-07-09T09:47:23.215424Z",
     "iopub.status.busy": "2025-07-09T09:47:23.214860Z",
     "iopub.status.idle": "2025-07-09T09:47:23.255555Z",
     "shell.execute_reply": "2025-07-09T09:47:23.254181Z"
    },
    "papermill": {
     "duration": 0.049297,
     "end_time": "2025-07-09T09:47:23.257514",
     "exception": false,
     "start_time": "2025-07-09T09:47:23.208217",
     "status": "completed"
    },
    "tags": []
   },
   "outputs": [],
   "source": [
    "# Read the Data\n",
    "df = pd.read_csv('/kaggle/input/housing-prices-dataset/Housing.csv')"
   ]
  },
  {
   "cell_type": "markdown",
   "id": "8894c01b",
   "metadata": {
    "papermill": {
     "duration": 0.005209,
     "end_time": "2025-07-09T09:47:23.268429",
     "exception": false,
     "start_time": "2025-07-09T09:47:23.263220",
     "status": "completed"
    },
    "tags": []
   },
   "source": [
    "What are the dimensions of the data ?"
   ]
  },
  {
   "cell_type": "code",
   "execution_count": 3,
   "id": "5c217957",
   "metadata": {
    "execution": {
     "iopub.execute_input": "2025-07-09T09:47:23.280994Z",
     "iopub.status.busy": "2025-07-09T09:47:23.280641Z",
     "iopub.status.idle": "2025-07-09T09:47:23.287479Z",
     "shell.execute_reply": "2025-07-09T09:47:23.286125Z"
    },
    "papermill": {
     "duration": 0.015193,
     "end_time": "2025-07-09T09:47:23.289322",
     "exception": false,
     "start_time": "2025-07-09T09:47:23.274129",
     "status": "completed"
    },
    "tags": []
   },
   "outputs": [
    {
     "data": {
      "text/plain": [
       "(545, 13)"
      ]
     },
     "execution_count": 3,
     "metadata": {},
     "output_type": "execute_result"
    }
   ],
   "source": [
    "# shape of the dataset: number of rows and columns in the data\n",
    "df.shape"
   ]
  },
  {
   "cell_type": "markdown",
   "id": "2bda8e66",
   "metadata": {
    "papermill": {
     "duration": 0.0061,
     "end_time": "2025-07-09T09:47:23.301367",
     "exception": false,
     "start_time": "2025-07-09T09:47:23.295267",
     "status": "completed"
    },
    "tags": []
   },
   "source": [
    "How does my data look like ?"
   ]
  },
  {
   "cell_type": "code",
   "execution_count": 4,
   "id": "17268d8c",
   "metadata": {
    "execution": {
     "iopub.execute_input": "2025-07-09T09:47:23.313895Z",
     "iopub.status.busy": "2025-07-09T09:47:23.313554Z",
     "iopub.status.idle": "2025-07-09T09:47:23.341503Z",
     "shell.execute_reply": "2025-07-09T09:47:23.340262Z"
    },
    "papermill": {
     "duration": 0.036357,
     "end_time": "2025-07-09T09:47:23.343357",
     "exception": false,
     "start_time": "2025-07-09T09:47:23.307000",
     "status": "completed"
    },
    "tags": []
   },
   "outputs": [
    {
     "data": {
      "text/html": [
       "<div>\n",
       "<style scoped>\n",
       "    .dataframe tbody tr th:only-of-type {\n",
       "        vertical-align: middle;\n",
       "    }\n",
       "\n",
       "    .dataframe tbody tr th {\n",
       "        vertical-align: top;\n",
       "    }\n",
       "\n",
       "    .dataframe thead th {\n",
       "        text-align: right;\n",
       "    }\n",
       "</style>\n",
       "<table border=\"1\" class=\"dataframe\">\n",
       "  <thead>\n",
       "    <tr style=\"text-align: right;\">\n",
       "      <th></th>\n",
       "      <th>price</th>\n",
       "      <th>area</th>\n",
       "      <th>bedrooms</th>\n",
       "      <th>bathrooms</th>\n",
       "      <th>stories</th>\n",
       "      <th>mainroad</th>\n",
       "      <th>guestroom</th>\n",
       "      <th>basement</th>\n",
       "      <th>hotwaterheating</th>\n",
       "      <th>airconditioning</th>\n",
       "      <th>parking</th>\n",
       "      <th>prefarea</th>\n",
       "      <th>furnishingstatus</th>\n",
       "    </tr>\n",
       "  </thead>\n",
       "  <tbody>\n",
       "    <tr>\n",
       "      <th>0</th>\n",
       "      <td>13300000</td>\n",
       "      <td>7420</td>\n",
       "      <td>4</td>\n",
       "      <td>2</td>\n",
       "      <td>3</td>\n",
       "      <td>yes</td>\n",
       "      <td>no</td>\n",
       "      <td>no</td>\n",
       "      <td>no</td>\n",
       "      <td>yes</td>\n",
       "      <td>2</td>\n",
       "      <td>yes</td>\n",
       "      <td>furnished</td>\n",
       "    </tr>\n",
       "    <tr>\n",
       "      <th>1</th>\n",
       "      <td>12250000</td>\n",
       "      <td>8960</td>\n",
       "      <td>4</td>\n",
       "      <td>4</td>\n",
       "      <td>4</td>\n",
       "      <td>yes</td>\n",
       "      <td>no</td>\n",
       "      <td>no</td>\n",
       "      <td>no</td>\n",
       "      <td>yes</td>\n",
       "      <td>3</td>\n",
       "      <td>no</td>\n",
       "      <td>furnished</td>\n",
       "    </tr>\n",
       "    <tr>\n",
       "      <th>2</th>\n",
       "      <td>12250000</td>\n",
       "      <td>9960</td>\n",
       "      <td>3</td>\n",
       "      <td>2</td>\n",
       "      <td>2</td>\n",
       "      <td>yes</td>\n",
       "      <td>no</td>\n",
       "      <td>yes</td>\n",
       "      <td>no</td>\n",
       "      <td>no</td>\n",
       "      <td>2</td>\n",
       "      <td>yes</td>\n",
       "      <td>semi-furnished</td>\n",
       "    </tr>\n",
       "    <tr>\n",
       "      <th>3</th>\n",
       "      <td>12215000</td>\n",
       "      <td>7500</td>\n",
       "      <td>4</td>\n",
       "      <td>2</td>\n",
       "      <td>2</td>\n",
       "      <td>yes</td>\n",
       "      <td>no</td>\n",
       "      <td>yes</td>\n",
       "      <td>no</td>\n",
       "      <td>yes</td>\n",
       "      <td>3</td>\n",
       "      <td>yes</td>\n",
       "      <td>furnished</td>\n",
       "    </tr>\n",
       "    <tr>\n",
       "      <th>4</th>\n",
       "      <td>11410000</td>\n",
       "      <td>7420</td>\n",
       "      <td>4</td>\n",
       "      <td>1</td>\n",
       "      <td>2</td>\n",
       "      <td>yes</td>\n",
       "      <td>yes</td>\n",
       "      <td>yes</td>\n",
       "      <td>no</td>\n",
       "      <td>yes</td>\n",
       "      <td>2</td>\n",
       "      <td>no</td>\n",
       "      <td>furnished</td>\n",
       "    </tr>\n",
       "  </tbody>\n",
       "</table>\n",
       "</div>"
      ],
      "text/plain": [
       "      price  area  bedrooms  bathrooms  stories mainroad guestroom basement  \\\n",
       "0  13300000  7420         4          2        3      yes        no       no   \n",
       "1  12250000  8960         4          4        4      yes        no       no   \n",
       "2  12250000  9960         3          2        2      yes        no      yes   \n",
       "3  12215000  7500         4          2        2      yes        no      yes   \n",
       "4  11410000  7420         4          1        2      yes       yes      yes   \n",
       "\n",
       "  hotwaterheating airconditioning  parking prefarea furnishingstatus  \n",
       "0              no             yes        2      yes        furnished  \n",
       "1              no             yes        3       no        furnished  \n",
       "2              no              no        2      yes   semi-furnished  \n",
       "3              no             yes        3      yes        furnished  \n",
       "4              no             yes        2       no        furnished  "
      ]
     },
     "execution_count": 4,
     "metadata": {},
     "output_type": "execute_result"
    }
   ],
   "source": [
    "# Read the first five rows\n",
    "df.head()"
   ]
  },
  {
   "cell_type": "code",
   "execution_count": 5,
   "id": "600c1a5e",
   "metadata": {
    "execution": {
     "iopub.execute_input": "2025-07-09T09:47:23.356577Z",
     "iopub.status.busy": "2025-07-09T09:47:23.356244Z",
     "iopub.status.idle": "2025-07-09T09:47:23.370123Z",
     "shell.execute_reply": "2025-07-09T09:47:23.368993Z"
    },
    "papermill": {
     "duration": 0.02237,
     "end_time": "2025-07-09T09:47:23.371846",
     "exception": false,
     "start_time": "2025-07-09T09:47:23.349476",
     "status": "completed"
    },
    "tags": []
   },
   "outputs": [
    {
     "data": {
      "text/html": [
       "<div>\n",
       "<style scoped>\n",
       "    .dataframe tbody tr th:only-of-type {\n",
       "        vertical-align: middle;\n",
       "    }\n",
       "\n",
       "    .dataframe tbody tr th {\n",
       "        vertical-align: top;\n",
       "    }\n",
       "\n",
       "    .dataframe thead th {\n",
       "        text-align: right;\n",
       "    }\n",
       "</style>\n",
       "<table border=\"1\" class=\"dataframe\">\n",
       "  <thead>\n",
       "    <tr style=\"text-align: right;\">\n",
       "      <th></th>\n",
       "      <th>price</th>\n",
       "      <th>area</th>\n",
       "      <th>bedrooms</th>\n",
       "      <th>bathrooms</th>\n",
       "      <th>stories</th>\n",
       "      <th>mainroad</th>\n",
       "      <th>guestroom</th>\n",
       "      <th>basement</th>\n",
       "      <th>hotwaterheating</th>\n",
       "      <th>airconditioning</th>\n",
       "      <th>parking</th>\n",
       "      <th>prefarea</th>\n",
       "      <th>furnishingstatus</th>\n",
       "    </tr>\n",
       "  </thead>\n",
       "  <tbody>\n",
       "    <tr>\n",
       "      <th>540</th>\n",
       "      <td>1820000</td>\n",
       "      <td>3000</td>\n",
       "      <td>2</td>\n",
       "      <td>1</td>\n",
       "      <td>1</td>\n",
       "      <td>yes</td>\n",
       "      <td>no</td>\n",
       "      <td>yes</td>\n",
       "      <td>no</td>\n",
       "      <td>no</td>\n",
       "      <td>2</td>\n",
       "      <td>no</td>\n",
       "      <td>unfurnished</td>\n",
       "    </tr>\n",
       "    <tr>\n",
       "      <th>541</th>\n",
       "      <td>1767150</td>\n",
       "      <td>2400</td>\n",
       "      <td>3</td>\n",
       "      <td>1</td>\n",
       "      <td>1</td>\n",
       "      <td>no</td>\n",
       "      <td>no</td>\n",
       "      <td>no</td>\n",
       "      <td>no</td>\n",
       "      <td>no</td>\n",
       "      <td>0</td>\n",
       "      <td>no</td>\n",
       "      <td>semi-furnished</td>\n",
       "    </tr>\n",
       "    <tr>\n",
       "      <th>542</th>\n",
       "      <td>1750000</td>\n",
       "      <td>3620</td>\n",
       "      <td>2</td>\n",
       "      <td>1</td>\n",
       "      <td>1</td>\n",
       "      <td>yes</td>\n",
       "      <td>no</td>\n",
       "      <td>no</td>\n",
       "      <td>no</td>\n",
       "      <td>no</td>\n",
       "      <td>0</td>\n",
       "      <td>no</td>\n",
       "      <td>unfurnished</td>\n",
       "    </tr>\n",
       "    <tr>\n",
       "      <th>543</th>\n",
       "      <td>1750000</td>\n",
       "      <td>2910</td>\n",
       "      <td>3</td>\n",
       "      <td>1</td>\n",
       "      <td>1</td>\n",
       "      <td>no</td>\n",
       "      <td>no</td>\n",
       "      <td>no</td>\n",
       "      <td>no</td>\n",
       "      <td>no</td>\n",
       "      <td>0</td>\n",
       "      <td>no</td>\n",
       "      <td>furnished</td>\n",
       "    </tr>\n",
       "    <tr>\n",
       "      <th>544</th>\n",
       "      <td>1750000</td>\n",
       "      <td>3850</td>\n",
       "      <td>3</td>\n",
       "      <td>1</td>\n",
       "      <td>2</td>\n",
       "      <td>yes</td>\n",
       "      <td>no</td>\n",
       "      <td>no</td>\n",
       "      <td>no</td>\n",
       "      <td>no</td>\n",
       "      <td>0</td>\n",
       "      <td>no</td>\n",
       "      <td>unfurnished</td>\n",
       "    </tr>\n",
       "  </tbody>\n",
       "</table>\n",
       "</div>"
      ],
      "text/plain": [
       "       price  area  bedrooms  bathrooms  stories mainroad guestroom basement  \\\n",
       "540  1820000  3000         2          1        1      yes        no      yes   \n",
       "541  1767150  2400         3          1        1       no        no       no   \n",
       "542  1750000  3620         2          1        1      yes        no       no   \n",
       "543  1750000  2910         3          1        1       no        no       no   \n",
       "544  1750000  3850         3          1        2      yes        no       no   \n",
       "\n",
       "    hotwaterheating airconditioning  parking prefarea furnishingstatus  \n",
       "540              no              no        2       no      unfurnished  \n",
       "541              no              no        0       no   semi-furnished  \n",
       "542              no              no        0       no      unfurnished  \n",
       "543              no              no        0       no        furnished  \n",
       "544              no              no        0       no      unfurnished  "
      ]
     },
     "execution_count": 5,
     "metadata": {},
     "output_type": "execute_result"
    }
   ],
   "source": [
    "# Read the last five rows\n",
    "df.tail()"
   ]
  },
  {
   "cell_type": "code",
   "execution_count": 6,
   "id": "dce8cc7a",
   "metadata": {
    "execution": {
     "iopub.execute_input": "2025-07-09T09:47:23.385874Z",
     "iopub.status.busy": "2025-07-09T09:47:23.385486Z",
     "iopub.status.idle": "2025-07-09T09:47:23.404363Z",
     "shell.execute_reply": "2025-07-09T09:47:23.403257Z"
    },
    "papermill": {
     "duration": 0.027716,
     "end_time": "2025-07-09T09:47:23.406067",
     "exception": false,
     "start_time": "2025-07-09T09:47:23.378351",
     "status": "completed"
    },
    "tags": []
   },
   "outputs": [
    {
     "data": {
      "text/html": [
       "<div>\n",
       "<style scoped>\n",
       "    .dataframe tbody tr th:only-of-type {\n",
       "        vertical-align: middle;\n",
       "    }\n",
       "\n",
       "    .dataframe tbody tr th {\n",
       "        vertical-align: top;\n",
       "    }\n",
       "\n",
       "    .dataframe thead th {\n",
       "        text-align: right;\n",
       "    }\n",
       "</style>\n",
       "<table border=\"1\" class=\"dataframe\">\n",
       "  <thead>\n",
       "    <tr style=\"text-align: right;\">\n",
       "      <th></th>\n",
       "      <th>price</th>\n",
       "      <th>area</th>\n",
       "      <th>bedrooms</th>\n",
       "      <th>bathrooms</th>\n",
       "      <th>stories</th>\n",
       "      <th>mainroad</th>\n",
       "      <th>guestroom</th>\n",
       "      <th>basement</th>\n",
       "      <th>hotwaterheating</th>\n",
       "      <th>airconditioning</th>\n",
       "      <th>parking</th>\n",
       "      <th>prefarea</th>\n",
       "      <th>furnishingstatus</th>\n",
       "    </tr>\n",
       "  </thead>\n",
       "  <tbody>\n",
       "    <tr>\n",
       "      <th>131</th>\n",
       "      <td>5810000</td>\n",
       "      <td>5828</td>\n",
       "      <td>4</td>\n",
       "      <td>1</td>\n",
       "      <td>4</td>\n",
       "      <td>yes</td>\n",
       "      <td>yes</td>\n",
       "      <td>no</td>\n",
       "      <td>no</td>\n",
       "      <td>no</td>\n",
       "      <td>0</td>\n",
       "      <td>no</td>\n",
       "      <td>semi-furnished</td>\n",
       "    </tr>\n",
       "  </tbody>\n",
       "</table>\n",
       "</div>"
      ],
      "text/plain": [
       "       price  area  bedrooms  bathrooms  stories mainroad guestroom basement  \\\n",
       "131  5810000  5828         4          1        4      yes       yes       no   \n",
       "\n",
       "    hotwaterheating airconditioning  parking prefarea furnishingstatus  \n",
       "131              no              no        0       no   semi-furnished  "
      ]
     },
     "execution_count": 6,
     "metadata": {},
     "output_type": "execute_result"
    }
   ],
   "source": [
    "# Read the random amy number of row(s)\n",
    "df.sample()"
   ]
  },
  {
   "cell_type": "markdown",
   "id": "4af2ebe1",
   "metadata": {
    "papermill": {
     "duration": 0.005925,
     "end_time": "2025-07-09T09:47:23.418626",
     "exception": false,
     "start_time": "2025-07-09T09:47:23.412701",
     "status": "completed"
    },
    "tags": []
   },
   "source": [
    "What are the general information about my datasets ?"
   ]
  },
  {
   "cell_type": "code",
   "execution_count": 7,
   "id": "0cbe0c31",
   "metadata": {
    "execution": {
     "iopub.execute_input": "2025-07-09T09:47:23.433487Z",
     "iopub.status.busy": "2025-07-09T09:47:23.433139Z",
     "iopub.status.idle": "2025-07-09T09:47:23.459625Z",
     "shell.execute_reply": "2025-07-09T09:47:23.458378Z"
    },
    "papermill": {
     "duration": 0.036149,
     "end_time": "2025-07-09T09:47:23.461658",
     "exception": false,
     "start_time": "2025-07-09T09:47:23.425509",
     "status": "completed"
    },
    "tags": []
   },
   "outputs": [
    {
     "name": "stdout",
     "output_type": "stream",
     "text": [
      "<class 'pandas.core.frame.DataFrame'>\n",
      "RangeIndex: 545 entries, 0 to 544\n",
      "Data columns (total 13 columns):\n",
      " #   Column            Non-Null Count  Dtype \n",
      "---  ------            --------------  ----- \n",
      " 0   price             545 non-null    int64 \n",
      " 1   area              545 non-null    int64 \n",
      " 2   bedrooms          545 non-null    int64 \n",
      " 3   bathrooms         545 non-null    int64 \n",
      " 4   stories           545 non-null    int64 \n",
      " 5   mainroad          545 non-null    object\n",
      " 6   guestroom         545 non-null    object\n",
      " 7   basement          545 non-null    object\n",
      " 8   hotwaterheating   545 non-null    object\n",
      " 9   airconditioning   545 non-null    object\n",
      " 10  parking           545 non-null    int64 \n",
      " 11  prefarea          545 non-null    object\n",
      " 12  furnishingstatus  545 non-null    object\n",
      "dtypes: int64(6), object(7)\n",
      "memory usage: 55.5+ KB\n"
     ]
    }
   ],
   "source": [
    "df.info()"
   ]
  },
  {
   "cell_type": "markdown",
   "id": "c803ec73",
   "metadata": {
    "papermill": {
     "duration": 0.006116,
     "end_time": "2025-07-09T09:47:23.474537",
     "exception": false,
     "start_time": "2025-07-09T09:47:23.468421",
     "status": "completed"
    },
    "tags": []
   },
   "source": [
    "Summary Statistics of Numerical column of data"
   ]
  },
  {
   "cell_type": "code",
   "execution_count": 8,
   "id": "0967ac1a",
   "metadata": {
    "execution": {
     "iopub.execute_input": "2025-07-09T09:47:23.488675Z",
     "iopub.status.busy": "2025-07-09T09:47:23.488280Z",
     "iopub.status.idle": "2025-07-09T09:47:23.514720Z",
     "shell.execute_reply": "2025-07-09T09:47:23.513648Z"
    },
    "papermill": {
     "duration": 0.035689,
     "end_time": "2025-07-09T09:47:23.516578",
     "exception": false,
     "start_time": "2025-07-09T09:47:23.480889",
     "status": "completed"
    },
    "tags": []
   },
   "outputs": [
    {
     "data": {
      "text/html": [
       "<div>\n",
       "<style scoped>\n",
       "    .dataframe tbody tr th:only-of-type {\n",
       "        vertical-align: middle;\n",
       "    }\n",
       "\n",
       "    .dataframe tbody tr th {\n",
       "        vertical-align: top;\n",
       "    }\n",
       "\n",
       "    .dataframe thead th {\n",
       "        text-align: right;\n",
       "    }\n",
       "</style>\n",
       "<table border=\"1\" class=\"dataframe\">\n",
       "  <thead>\n",
       "    <tr style=\"text-align: right;\">\n",
       "      <th></th>\n",
       "      <th>price</th>\n",
       "      <th>area</th>\n",
       "      <th>bedrooms</th>\n",
       "      <th>bathrooms</th>\n",
       "      <th>stories</th>\n",
       "      <th>parking</th>\n",
       "    </tr>\n",
       "  </thead>\n",
       "  <tbody>\n",
       "    <tr>\n",
       "      <th>count</th>\n",
       "      <td>5.450000e+02</td>\n",
       "      <td>545.000000</td>\n",
       "      <td>545.000000</td>\n",
       "      <td>545.000000</td>\n",
       "      <td>545.000000</td>\n",
       "      <td>545.000000</td>\n",
       "    </tr>\n",
       "    <tr>\n",
       "      <th>mean</th>\n",
       "      <td>4.766729e+06</td>\n",
       "      <td>5150.541284</td>\n",
       "      <td>2.965138</td>\n",
       "      <td>1.286239</td>\n",
       "      <td>1.805505</td>\n",
       "      <td>0.693578</td>\n",
       "    </tr>\n",
       "    <tr>\n",
       "      <th>std</th>\n",
       "      <td>1.870440e+06</td>\n",
       "      <td>2170.141023</td>\n",
       "      <td>0.738064</td>\n",
       "      <td>0.502470</td>\n",
       "      <td>0.867492</td>\n",
       "      <td>0.861586</td>\n",
       "    </tr>\n",
       "    <tr>\n",
       "      <th>min</th>\n",
       "      <td>1.750000e+06</td>\n",
       "      <td>1650.000000</td>\n",
       "      <td>1.000000</td>\n",
       "      <td>1.000000</td>\n",
       "      <td>1.000000</td>\n",
       "      <td>0.000000</td>\n",
       "    </tr>\n",
       "    <tr>\n",
       "      <th>25%</th>\n",
       "      <td>3.430000e+06</td>\n",
       "      <td>3600.000000</td>\n",
       "      <td>2.000000</td>\n",
       "      <td>1.000000</td>\n",
       "      <td>1.000000</td>\n",
       "      <td>0.000000</td>\n",
       "    </tr>\n",
       "    <tr>\n",
       "      <th>50%</th>\n",
       "      <td>4.340000e+06</td>\n",
       "      <td>4600.000000</td>\n",
       "      <td>3.000000</td>\n",
       "      <td>1.000000</td>\n",
       "      <td>2.000000</td>\n",
       "      <td>0.000000</td>\n",
       "    </tr>\n",
       "    <tr>\n",
       "      <th>75%</th>\n",
       "      <td>5.740000e+06</td>\n",
       "      <td>6360.000000</td>\n",
       "      <td>3.000000</td>\n",
       "      <td>2.000000</td>\n",
       "      <td>2.000000</td>\n",
       "      <td>1.000000</td>\n",
       "    </tr>\n",
       "    <tr>\n",
       "      <th>max</th>\n",
       "      <td>1.330000e+07</td>\n",
       "      <td>16200.000000</td>\n",
       "      <td>6.000000</td>\n",
       "      <td>4.000000</td>\n",
       "      <td>4.000000</td>\n",
       "      <td>3.000000</td>\n",
       "    </tr>\n",
       "  </tbody>\n",
       "</table>\n",
       "</div>"
      ],
      "text/plain": [
       "              price          area    bedrooms   bathrooms     stories  \\\n",
       "count  5.450000e+02    545.000000  545.000000  545.000000  545.000000   \n",
       "mean   4.766729e+06   5150.541284    2.965138    1.286239    1.805505   \n",
       "std    1.870440e+06   2170.141023    0.738064    0.502470    0.867492   \n",
       "min    1.750000e+06   1650.000000    1.000000    1.000000    1.000000   \n",
       "25%    3.430000e+06   3600.000000    2.000000    1.000000    1.000000   \n",
       "50%    4.340000e+06   4600.000000    3.000000    1.000000    2.000000   \n",
       "75%    5.740000e+06   6360.000000    3.000000    2.000000    2.000000   \n",
       "max    1.330000e+07  16200.000000    6.000000    4.000000    4.000000   \n",
       "\n",
       "          parking  \n",
       "count  545.000000  \n",
       "mean     0.693578  \n",
       "std      0.861586  \n",
       "min      0.000000  \n",
       "25%      0.000000  \n",
       "50%      0.000000  \n",
       "75%      1.000000  \n",
       "max      3.000000  "
      ]
     },
     "execution_count": 8,
     "metadata": {},
     "output_type": "execute_result"
    }
   ],
   "source": [
    "df.describe()"
   ]
  },
  {
   "cell_type": "markdown",
   "id": "167f90d3",
   "metadata": {
    "papermill": {
     "duration": 0.006057,
     "end_time": "2025-07-09T09:47:23.529529",
     "exception": false,
     "start_time": "2025-07-09T09:47:23.523472",
     "status": "completed"
    },
    "tags": []
   },
   "source": [
    "Are there any duplicate rows or columns in our data?"
   ]
  },
  {
   "cell_type": "code",
   "execution_count": 9,
   "id": "102302f8",
   "metadata": {
    "execution": {
     "iopub.execute_input": "2025-07-09T09:47:23.543754Z",
     "iopub.status.busy": "2025-07-09T09:47:23.543412Z",
     "iopub.status.idle": "2025-07-09T09:47:23.555088Z",
     "shell.execute_reply": "2025-07-09T09:47:23.553868Z"
    },
    "papermill": {
     "duration": 0.02105,
     "end_time": "2025-07-09T09:47:23.557008",
     "exception": false,
     "start_time": "2025-07-09T09:47:23.535958",
     "status": "completed"
    },
    "tags": []
   },
   "outputs": [
    {
     "data": {
      "text/html": [
       "<div>\n",
       "<style scoped>\n",
       "    .dataframe tbody tr th:only-of-type {\n",
       "        vertical-align: middle;\n",
       "    }\n",
       "\n",
       "    .dataframe tbody tr th {\n",
       "        vertical-align: top;\n",
       "    }\n",
       "\n",
       "    .dataframe thead th {\n",
       "        text-align: right;\n",
       "    }\n",
       "</style>\n",
       "<table border=\"1\" class=\"dataframe\">\n",
       "  <thead>\n",
       "    <tr style=\"text-align: right;\">\n",
       "      <th></th>\n",
       "      <th>price</th>\n",
       "      <th>area</th>\n",
       "      <th>bedrooms</th>\n",
       "      <th>bathrooms</th>\n",
       "      <th>stories</th>\n",
       "      <th>mainroad</th>\n",
       "      <th>guestroom</th>\n",
       "      <th>basement</th>\n",
       "      <th>hotwaterheating</th>\n",
       "      <th>airconditioning</th>\n",
       "      <th>parking</th>\n",
       "      <th>prefarea</th>\n",
       "      <th>furnishingstatus</th>\n",
       "    </tr>\n",
       "  </thead>\n",
       "  <tbody>\n",
       "  </tbody>\n",
       "</table>\n",
       "</div>"
      ],
      "text/plain": [
       "Empty DataFrame\n",
       "Columns: [price, area, bedrooms, bathrooms, stories, mainroad, guestroom, basement, hotwaterheating, airconditioning, parking, prefarea, furnishingstatus]\n",
       "Index: []"
      ]
     },
     "execution_count": 9,
     "metadata": {},
     "output_type": "execute_result"
    }
   ],
   "source": [
    "df[df.duplicated()]"
   ]
  },
  {
   "cell_type": "markdown",
   "id": "74e7c1eb",
   "metadata": {
    "papermill": {
     "duration": 0.006337,
     "end_time": "2025-07-09T09:47:23.570481",
     "exception": false,
     "start_time": "2025-07-09T09:47:23.564144",
     "status": "completed"
    },
    "tags": []
   },
   "source": [
    "Are there any null values in rows or columns in our data?"
   ]
  },
  {
   "cell_type": "code",
   "execution_count": 10,
   "id": "674053a0",
   "metadata": {
    "execution": {
     "iopub.execute_input": "2025-07-09T09:47:23.585970Z",
     "iopub.status.busy": "2025-07-09T09:47:23.585551Z",
     "iopub.status.idle": "2025-07-09T09:47:23.593459Z",
     "shell.execute_reply": "2025-07-09T09:47:23.592360Z"
    },
    "papermill": {
     "duration": 0.018041,
     "end_time": "2025-07-09T09:47:23.595211",
     "exception": false,
     "start_time": "2025-07-09T09:47:23.577170",
     "status": "completed"
    },
    "tags": []
   },
   "outputs": [
    {
     "data": {
      "text/plain": [
       "price               0\n",
       "area                0\n",
       "bedrooms            0\n",
       "bathrooms           0\n",
       "stories             0\n",
       "mainroad            0\n",
       "guestroom           0\n",
       "basement            0\n",
       "hotwaterheating     0\n",
       "airconditioning     0\n",
       "parking             0\n",
       "prefarea            0\n",
       "furnishingstatus    0\n",
       "dtype: int64"
      ]
     },
     "execution_count": 10,
     "metadata": {},
     "output_type": "execute_result"
    }
   ],
   "source": [
    "df.isnull().sum()"
   ]
  },
  {
   "cell_type": "code",
   "execution_count": 11,
   "id": "47204de3",
   "metadata": {
    "execution": {
     "iopub.execute_input": "2025-07-09T09:47:23.610578Z",
     "iopub.status.busy": "2025-07-09T09:47:23.610226Z",
     "iopub.status.idle": "2025-07-09T09:47:24.194627Z",
     "shell.execute_reply": "2025-07-09T09:47:24.193499Z"
    },
    "papermill": {
     "duration": 0.594057,
     "end_time": "2025-07-09T09:47:24.196493",
     "exception": false,
     "start_time": "2025-07-09T09:47:23.602436",
     "status": "completed"
    },
    "tags": []
   },
   "outputs": [
    {
     "name": "stderr",
     "output_type": "stream",
     "text": [
      "/usr/local/lib/python3.10/dist-packages/seaborn/_oldcore.py:1119: FutureWarning: use_inf_as_na option is deprecated and will be removed in a future version. Convert inf values to NaN before operating instead.\n",
      "  with pd.option_context('mode.use_inf_as_na', True):\n"
     ]
    },
    {
     "data": {
      "image/png": "[encoded data removed]",
      "text/plain": [
       "<Figure size 2000x800 with 2 Axes>"
      ]
     },
     "metadata": {},
     "output_type": "display_data"
    }
   ],
   "source": [
    "plt.figure(figsize=(20,8))\n",
    "\n",
    "plt.subplot(1,2,1)\n",
    "plt.title('House Price Distribution Plot')\n",
    "sns.histplot(df.price, kde='True')\n",
    "\n",
    "plt.subplot(1,2,2)\n",
    "sns.boxplot(df.price)\n",
    "plt.title('House Pricing Spread')\n",
    "\n",
    "plt.show()"
   ]
  },
  {
   "cell_type": "code",
   "execution_count": 12,
   "id": "b9ff1403",
   "metadata": {
    "execution": {
     "iopub.execute_input": "2025-07-09T09:47:24.213902Z",
     "iopub.status.busy": "2025-07-09T09:47:24.213533Z",
     "iopub.status.idle": "2025-07-09T09:47:24.221168Z",
     "shell.execute_reply": "2025-07-09T09:47:24.219952Z"
    },
    "papermill": {
     "duration": 0.018487,
     "end_time": "2025-07-09T09:47:24.223045",
     "exception": false,
     "start_time": "2025-07-09T09:47:24.204558",
     "status": "completed"
    },
    "tags": []
   },
   "outputs": [
    {
     "data": {
      "text/plain": [
       "price                int64\n",
       "area                 int64\n",
       "bedrooms             int64\n",
       "bathrooms            int64\n",
       "stories              int64\n",
       "mainroad            object\n",
       "guestroom           object\n",
       "basement            object\n",
       "hotwaterheating     object\n",
       "airconditioning     object\n",
       "parking              int64\n",
       "prefarea            object\n",
       "furnishingstatus    object\n",
       "dtype: object"
      ]
     },
     "execution_count": 12,
     "metadata": {},
     "output_type": "execute_result"
    }
   ],
   "source": [
    "df.dtypes"
   ]
  },
  {
   "cell_type": "markdown",
   "id": "1777867e",
   "metadata": {
    "papermill": {
     "duration": 0.007975,
     "end_time": "2025-07-09T09:47:24.239375",
     "exception": false,
     "start_time": "2025-07-09T09:47:24.231400",
     "status": "completed"
    },
    "tags": []
   },
   "source": [
    "Object datatype may be categorical"
   ]
  },
  {
   "cell_type": "code",
   "execution_count": 13,
   "id": "66fdaa59",
   "metadata": {
    "execution": {
     "iopub.execute_input": "2025-07-09T09:47:24.258142Z",
     "iopub.status.busy": "2025-07-09T09:47:24.257734Z",
     "iopub.status.idle": "2025-07-09T09:47:24.263708Z",
     "shell.execute_reply": "2025-07-09T09:47:24.262374Z"
    },
    "papermill": {
     "duration": 0.016997,
     "end_time": "2025-07-09T09:47:24.265476",
     "exception": false,
     "start_time": "2025-07-09T09:47:24.248479",
     "status": "completed"
    },
    "tags": []
   },
   "outputs": [
    {
     "name": "stdout",
     "output_type": "stream",
     "text": [
      "numerical co\n"
     ]
    }
   ],
   "source": [
    "numerical_cols = [col for col in df.select_dtypes(include='int64')]\n",
    "print(f\"numerical co\")"
   ]
  },
  {
   "cell_type": "code",
   "execution_count": 14,
   "id": "50a9fe82",
   "metadata": {
    "execution": {
     "iopub.execute_input": "2025-07-09T09:47:24.283449Z",
     "iopub.status.busy": "2025-07-09T09:47:24.283115Z",
     "iopub.status.idle": "2025-07-09T09:47:25.526297Z",
     "shell.execute_reply": "2025-07-09T09:47:25.525166Z"
    },
    "papermill": {
     "duration": 1.254366,
     "end_time": "2025-07-09T09:47:25.528235",
     "exception": false,
     "start_time": "2025-07-09T09:47:24.273869",
     "status": "completed"
    },
    "tags": []
   },
   "outputs": [
    {
     "data": {
      "image/png": "[encoded data removed]",
      "text/plain": [
       "<Figure size 1500x600 with 3 Axes>"
      ]
     },
     "metadata": {},
     "output_type": "display_data"
    },
    {
     "data": {
      "image/png": "[encoded data removed]",
      "text/plain": [
       "<Figure size 1500x500 with 3 Axes>"
      ]
     },
     "metadata": {},
     "output_type": "display_data"
    },
    {
     "data": {
      "image/png": "[encoded data removed]",
      "text/plain": [
       "<Figure size 640x480 with 1 Axes>"
      ]
     },
     "metadata": {},
     "output_type": "display_data"
    }
   ],
   "source": [
    "plt.figure(figsize=(15, 6))\n",
    "\n",
    "plt.subplot(1,3,1)\n",
    "plt1 = df['mainroad'].value_counts().plot(kind='bar')\n",
    "plt.title('mainroad Histogram')\n",
    "plt1.set(xlabel = 'mainroad', ylabel='Frequency of mainroad')\n",
    "\n",
    "plt.subplot(1,3,2)\n",
    "plt1 = df['guestroom'].value_counts().plot(kind='bar')\n",
    "plt.title('guestroom Histogram')\n",
    "plt1.set(xlabel = 'guestroom', ylabel='Frequency of guestroom')\n",
    "\n",
    "plt.subplot(1,3,3)\n",
    "plt1 = df['basement'].value_counts().plot(kind='bar')\n",
    "plt.title('basement Histogram')\n",
    "plt1.set(xlabel = 'basement', ylabel='Frequency of basement')\n",
    "\n",
    "\n",
    "plt.figure(figsize=(15, 5))\n",
    "plt.subplot(1, 3, 1)\n",
    "plt1 = df['hotwaterheating'].value_counts().plot(kind='bar',color='r')\n",
    "plt.title('hotwaterheating Histogram')\n",
    "plt1.set(xlabel = 'hotwaterheating', ylabel='Frequency of hotwaterheating')\n",
    "\n",
    "plt.subplot(1, 3, 2)\n",
    "plt1 = df['airconditioning'].value_counts().plot(kind='bar',color='r')\n",
    "plt.title('airconditioning Histogram')\n",
    "plt1.set(xlabel = 'airconditioning', ylabel='Frequency of airconditioning')\n",
    "\n",
    "plt.subplot(1, 3, 3)\n",
    "plt1 = df['prefarea'].value_counts().plot(kind='bar',color='r')\n",
    "plt.title('prefarea Histogram')\n",
    "plt1.set(xlabel = 'prefarea', ylabel='Frequency of prefarea')\n",
    "plt.show()\n",
    "\n",
    "plt.subplot(2, 2, 3)\n",
    "plt1 = df['furnishingstatus'].value_counts().plot(kind='bar',color='r')\n",
    "plt.title('furnishingstatus')\n",
    "plt1.set(xlabel = 'furnishingstatus', ylabel='Frequency of furnishingstatus')\n",
    "plt.show()\n",
    "\n",
    "\n",
    "\n"
   ]
  },
  {
   "cell_type": "code",
   "execution_count": 15,
   "id": "f1a54849",
   "metadata": {
    "execution": {
     "iopub.execute_input": "2025-07-09T09:47:25.551401Z",
     "iopub.status.busy": "2025-07-09T09:47:25.550982Z",
     "iopub.status.idle": "2025-07-09T09:47:25.747991Z",
     "shell.execute_reply": "2025-07-09T09:47:25.746781Z"
    },
    "papermill": {
     "duration": 0.21052,
     "end_time": "2025-07-09T09:47:25.749972",
     "exception": false,
     "start_time": "2025-07-09T09:47:25.539452",
     "status": "completed"
    },
    "tags": []
   },
   "outputs": [],
   "source": [
    "from sklearn.preprocessing import OneHotEncoder"
   ]
  },
  {
   "cell_type": "code",
   "execution_count": 16,
   "id": "39d11a39",
   "metadata": {
    "execution": {
     "iopub.execute_input": "2025-07-09T09:47:25.773181Z",
     "iopub.status.busy": "2025-07-09T09:47:25.772773Z",
     "iopub.status.idle": "2025-07-09T09:47:25.812584Z",
     "shell.execute_reply": "2025-07-09T09:47:25.811352Z"
    },
    "papermill": {
     "duration": 0.05341,
     "end_time": "2025-07-09T09:47:25.814523",
     "exception": false,
     "start_time": "2025-07-09T09:47:25.761113",
     "status": "completed"
    },
    "tags": []
   },
   "outputs": [
    {
     "data": {
      "text/html": [
       "<div>\n",
       "<style scoped>\n",
       "    .dataframe tbody tr th:only-of-type {\n",
       "        vertical-align: middle;\n",
       "    }\n",
       "\n",
       "    .dataframe tbody tr th {\n",
       "        vertical-align: top;\n",
       "    }\n",
       "\n",
       "    .dataframe thead th {\n",
       "        text-align: right;\n",
       "    }\n",
       "</style>\n",
       "<table border=\"1\" class=\"dataframe\">\n",
       "  <thead>\n",
       "    <tr style=\"text-align: right;\">\n",
       "      <th></th>\n",
       "      <th>mainroad_no</th>\n",
       "      <th>mainroad_yes</th>\n",
       "      <th>guestroom_no</th>\n",
       "      <th>guestroom_yes</th>\n",
       "      <th>basement_no</th>\n",
       "      <th>basement_yes</th>\n",
       "      <th>hotwaterheating_no</th>\n",
       "      <th>hotwaterheating_yes</th>\n",
       "      <th>airconditioning_no</th>\n",
       "      <th>airconditioning_yes</th>\n",
       "      <th>prefarea_no</th>\n",
       "      <th>prefarea_yes</th>\n",
       "      <th>furnishingstatus_furnished</th>\n",
       "      <th>furnishingstatus_semi-furnished</th>\n",
       "      <th>furnishingstatus_unfurnished</th>\n",
       "    </tr>\n",
       "  </thead>\n",
       "  <tbody>\n",
       "    <tr>\n",
       "      <th>0</th>\n",
       "      <td>0.0</td>\n",
       "      <td>1.0</td>\n",
       "      <td>1.0</td>\n",
       "      <td>0.0</td>\n",
       "      <td>1.0</td>\n",
       "      <td>0.0</td>\n",
       "      <td>1.0</td>\n",
       "      <td>0.0</td>\n",
       "      <td>0.0</td>\n",
       "      <td>1.0</td>\n",
       "      <td>0.0</td>\n",
       "      <td>1.0</td>\n",
       "      <td>1.0</td>\n",
       "      <td>0.0</td>\n",
       "      <td>0.0</td>\n",
       "    </tr>\n",
       "    <tr>\n",
       "      <th>1</th>\n",
       "      <td>0.0</td>\n",
       "      <td>1.0</td>\n",
       "      <td>1.0</td>\n",
       "      <td>0.0</td>\n",
       "      <td>1.0</td>\n",
       "      <td>0.0</td>\n",
       "      <td>1.0</td>\n",
       "      <td>0.0</td>\n",
       "      <td>0.0</td>\n",
       "      <td>1.0</td>\n",
       "      <td>1.0</td>\n",
       "      <td>0.0</td>\n",
       "      <td>1.0</td>\n",
       "      <td>0.0</td>\n",
       "      <td>0.0</td>\n",
       "    </tr>\n",
       "    <tr>\n",
       "      <th>2</th>\n",
       "      <td>0.0</td>\n",
       "      <td>1.0</td>\n",
       "      <td>1.0</td>\n",
       "      <td>0.0</td>\n",
       "      <td>0.0</td>\n",
       "      <td>1.0</td>\n",
       "      <td>1.0</td>\n",
       "      <td>0.0</td>\n",
       "      <td>1.0</td>\n",
       "      <td>0.0</td>\n",
       "      <td>0.0</td>\n",
       "      <td>1.0</td>\n",
       "      <td>0.0</td>\n",
       "      <td>1.0</td>\n",
       "      <td>0.0</td>\n",
       "    </tr>\n",
       "    <tr>\n",
       "      <th>3</th>\n",
       "      <td>0.0</td>\n",
       "      <td>1.0</td>\n",
       "      <td>1.0</td>\n",
       "      <td>0.0</td>\n",
       "      <td>0.0</td>\n",
       "      <td>1.0</td>\n",
       "      <td>1.0</td>\n",
       "      <td>0.0</td>\n",
       "      <td>0.0</td>\n",
       "      <td>1.0</td>\n",
       "      <td>0.0</td>\n",
       "      <td>1.0</td>\n",
       "      <td>1.0</td>\n",
       "      <td>0.0</td>\n",
       "      <td>0.0</td>\n",
       "    </tr>\n",
       "    <tr>\n",
       "      <th>4</th>\n",
       "      <td>0.0</td>\n",
       "      <td>1.0</td>\n",
       "      <td>0.0</td>\n",
       "      <td>1.0</td>\n",
       "      <td>0.0</td>\n",
       "      <td>1.0</td>\n",
       "      <td>1.0</td>\n",
       "      <td>0.0</td>\n",
       "      <td>0.0</td>\n",
       "      <td>1.0</td>\n",
       "      <td>1.0</td>\n",
       "      <td>0.0</td>\n",
       "      <td>1.0</td>\n",
       "      <td>0.0</td>\n",
       "      <td>0.0</td>\n",
       "    </tr>\n",
       "    <tr>\n",
       "      <th>...</th>\n",
       "      <td>...</td>\n",
       "      <td>...</td>\n",
       "      <td>...</td>\n",
       "      <td>...</td>\n",
       "      <td>...</td>\n",
       "      <td>...</td>\n",
       "      <td>...</td>\n",
       "      <td>...</td>\n",
       "      <td>...</td>\n",
       "      <td>...</td>\n",
       "      <td>...</td>\n",
       "      <td>...</td>\n",
       "      <td>...</td>\n",
       "      <td>...</td>\n",
       "      <td>...</td>\n",
       "    </tr>\n",
       "    <tr>\n",
       "      <th>540</th>\n",
       "      <td>0.0</td>\n",
       "      <td>1.0</td>\n",
       "      <td>1.0</td>\n",
       "      <td>0.0</td>\n",
       "      <td>0.0</td>\n",
       "      <td>1.0</td>\n",
       "      <td>1.0</td>\n",
       "      <td>0.0</td>\n",
       "      <td>1.0</td>\n",
       "      <td>0.0</td>\n",
       "      <td>1.0</td>\n",
       "      <td>0.0</td>\n",
       "      <td>0.0</td>\n",
       "      <td>0.0</td>\n",
       "      <td>1.0</td>\n",
       "    </tr>\n",
       "    <tr>\n",
       "      <th>541</th>\n",
       "      <td>1.0</td>\n",
       "      <td>0.0</td>\n",
       "      <td>1.0</td>\n",
       "      <td>0.0</td>\n",
       "      <td>1.0</td>\n",
       "      <td>0.0</td>\n",
       "      <td>1.0</td>\n",
       "      <td>0.0</td>\n",
       "      <td>1.0</td>\n",
       "      <td>0.0</td>\n",
       "      <td>1.0</td>\n",
       "      <td>0.0</td>\n",
       "      <td>0.0</td>\n",
       "      <td>1.0</td>\n",
       "      <td>0.0</td>\n",
       "    </tr>\n",
       "    <tr>\n",
       "      <th>542</th>\n",
       "      <td>0.0</td>\n",
       "      <td>1.0</td>\n",
       "      <td>1.0</td>\n",
       "      <td>0.0</td>\n",
       "      <td>1.0</td>\n",
       "      <td>0.0</td>\n",
       "      <td>1.0</td>\n",
       "      <td>0.0</td>\n",
       "      <td>1.0</td>\n",
       "      <td>0.0</td>\n",
       "      <td>1.0</td>\n",
       "      <td>0.0</td>\n",
       "      <td>0.0</td>\n",
       "      <td>0.0</td>\n",
       "      <td>1.0</td>\n",
       "    </tr>\n",
       "    <tr>\n",
       "      <th>543</th>\n",
       "      <td>1.0</td>\n",
       "      <td>0.0</td>\n",
       "      <td>1.0</td>\n",
       "      <td>0.0</td>\n",
       "      <td>1.0</td>\n",
       "      <td>0.0</td>\n",
       "      <td>1.0</td>\n",
       "      <td>0.0</td>\n",
       "      <td>1.0</td>\n",
       "      <td>0.0</td>\n",
       "      <td>1.0</td>\n",
       "      <td>0.0</td>\n",
       "      <td>1.0</td>\n",
       "      <td>0.0</td>\n",
       "      <td>0.0</td>\n",
       "    </tr>\n",
       "    <tr>\n",
       "      <th>544</th>\n",
       "      <td>0.0</td>\n",
       "      <td>1.0</td>\n",
       "      <td>1.0</td>\n",
       "      <td>0.0</td>\n",
       "      <td>1.0</td>\n",
       "      <td>0.0</td>\n",
       "      <td>1.0</td>\n",
       "      <td>0.0</td>\n",
       "      <td>1.0</td>\n",
       "      <td>0.0</td>\n",
       "      <td>1.0</td>\n",
       "      <td>0.0</td>\n",
       "      <td>0.0</td>\n",
       "      <td>0.0</td>\n",
       "      <td>1.0</td>\n",
       "    </tr>\n",
       "  </tbody>\n",
       "</table>\n",
       "<p>545 rows × 15 columns</p>\n",
       "</div>"
      ],
      "text/plain": [
       "     mainroad_no  mainroad_yes  guestroom_no  guestroom_yes  basement_no  \\\n",
       "0            0.0           1.0           1.0            0.0          1.0   \n",
       "1            0.0           1.0           1.0            0.0          1.0   \n",
       "2            0.0           1.0           1.0            0.0          0.0   \n",
       "3            0.0           1.0           1.0            0.0          0.0   \n",
       "4            0.0           1.0           0.0            1.0          0.0   \n",
       "..           ...           ...           ...            ...          ...   \n",
       "540          0.0           1.0           1.0            0.0          0.0   \n",
       "541          1.0           0.0           1.0            0.0          1.0   \n",
       "542          0.0           1.0           1.0            0.0          1.0   \n",
       "543          1.0           0.0           1.0            0.0          1.0   \n",
       "544          0.0           1.0           1.0            0.0          1.0   \n",
       "\n",
       "     basement_yes  hotwaterheating_no  hotwaterheating_yes  \\\n",
       "0             0.0                 1.0                  0.0   \n",
       "1             0.0                 1.0                  0.0   \n",
       "2             1.0                 1.0                  0.0   \n",
       "3             1.0                 1.0                  0.0   \n",
       "4             1.0                 1.0                  0.0   \n",
       "..            ...                 ...                  ...   \n",
       "540           1.0                 1.0                  0.0   \n",
       "541           0.0                 1.0                  0.0   \n",
       "542           0.0                 1.0                  0.0   \n",
       "543           0.0                 1.0                  0.0   \n",
       "544           0.0                 1.0                  0.0   \n",
       "\n",
       "     airconditioning_no  airconditioning_yes  prefarea_no  prefarea_yes  \\\n",
       "0                   0.0                  1.0          0.0           1.0   \n",
       "1                   0.0                  1.0          1.0           0.0   \n",
       "2                   1.0                  0.0          0.0           1.0   \n",
       "3                   0.0                  1.0          0.0           1.0   \n",
       "4                   0.0                  1.0          1.0           0.0   \n",
       "..                  ...                  ...          ...           ...   \n",
       "540                 1.0                  0.0          1.0           0.0   \n",
       "541                 1.0                  0.0          1.0           0.0   \n",
       "542                 1.0                  0.0          1.0           0.0   \n",
       "543                 1.0                  0.0          1.0           0.0   \n",
       "544                 1.0                  0.0          1.0           0.0   \n",
       "\n",
       "     furnishingstatus_furnished  furnishingstatus_semi-furnished  \\\n",
       "0                           1.0                              0.0   \n",
       "1                           1.0                              0.0   \n",
       "2                           0.0                              1.0   \n",
       "3                           1.0                              0.0   \n",
       "4                           1.0                              0.0   \n",
       "..                          ...                              ...   \n",
       "540                         0.0                              0.0   \n",
       "541                         0.0                              1.0   \n",
       "542                         0.0                              0.0   \n",
       "543                         1.0                              0.0   \n",
       "544                         0.0                              0.0   \n",
       "\n",
       "     furnishingstatus_unfurnished  \n",
       "0                             0.0  \n",
       "1                             0.0  \n",
       "2                             0.0  \n",
       "3                             0.0  \n",
       "4                             0.0  \n",
       "..                            ...  \n",
       "540                           1.0  \n",
       "541                           0.0  \n",
       "542                           1.0  \n",
       "543                           0.0  \n",
       "544                           1.0  \n",
       "\n",
       "[545 rows x 15 columns]"
      ]
     },
     "execution_count": 16,
     "metadata": {},
     "output_type": "execute_result"
    }
   ],
   "source": [
    "encoder = OneHotEncoder(sparse_output=False)\n",
    "onehotencoded_df=pd.DataFrame(encoder.fit_transform(df[[\"mainroad\",\"guestroom\",\"basement\",\"hotwaterheating\",\"airconditioning\",\"prefarea\",\"furnishingstatus\"]]),columns=encoder.get_feature_names_out([\"mainroad\",\"guestroom\",\"basement\",\"hotwaterheating\",\"airconditioning\",\"prefarea\",\"furnishingstatus\"]))\n",
    "\n",
    "df=pd.concat([df, onehotencoded_df], axis=1).drop([\"mainroad\",\"guestroom\",\"basement\",\"hotwaterheating\",\"airconditioning\",\"prefarea\",\"furnishingstatus\"], axis=1)\n",
    "onehotencoded_df"
   ]
  },
  {
   "cell_type": "code",
   "execution_count": 17,
   "id": "628c75fb",
   "metadata": {
    "execution": {
     "iopub.execute_input": "2025-07-09T09:47:25.838607Z",
     "iopub.status.busy": "2025-07-09T09:47:25.838256Z",
     "iopub.status.idle": "2025-07-09T09:47:25.845345Z",
     "shell.execute_reply": "2025-07-09T09:47:25.844308Z"
    },
    "papermill": {
     "duration": 0.020918,
     "end_time": "2025-07-09T09:47:25.846924",
     "exception": false,
     "start_time": "2025-07-09T09:47:25.826006",
     "status": "completed"
    },
    "tags": []
   },
   "outputs": [
    {
     "data": {
      "text/plain": [
       "['price', 'area', 'bedrooms', 'bathrooms', 'stories', 'parking']"
      ]
     },
     "execution_count": 17,
     "metadata": {},
     "output_type": "execute_result"
    }
   ],
   "source": [
    "numerical_col = [col for col in df.columns if df[col].dtypes == 'int64']\n",
    "numerical_col"
   ]
  },
  {
   "cell_type": "code",
   "execution_count": 18,
   "id": "516fbe2b",
   "metadata": {
    "execution": {
     "iopub.execute_input": "2025-07-09T09:47:25.870712Z",
     "iopub.status.busy": "2025-07-09T09:47:25.870360Z",
     "iopub.status.idle": "2025-07-09T09:47:26.219343Z",
     "shell.execute_reply": "2025-07-09T09:47:26.218179Z"
    },
    "papermill": {
     "duration": 0.363106,
     "end_time": "2025-07-09T09:47:26.221423",
     "exception": false,
     "start_time": "2025-07-09T09:47:25.858317",
     "status": "completed"
    },
    "tags": []
   },
   "outputs": [
    {
     "data": {
      "image/png": "[encoded data removed]",
      "text/plain": [
       "<Figure size 1200x800 with 2 Axes>"
      ]
     },
     "metadata": {},
     "output_type": "display_data"
    }
   ],
   "source": [
    "cor_matrix= df[numerical_col].corr()\n",
    "plt.figure(figsize=(12, 8))  # Set the figure size\n",
    "sns.heatmap(cor_matrix, annot=True, cmap='coolwarm', linewidths=0.5)\n",
    "plt.title('Correlation Heatmap')\n",
    "plt.show()"
   ]
  }
 ],
 "metadata": {
  "kaggle": {
   "accelerator": "none",
   "dataSources": [
    {
     "datasetId": 1859421,
     "sourceId": 3036086,
     "sourceType": "datasetVersion"
    }
   ],
   "dockerImageVersionId": 30839,
   "isGpuEnabled": false,
   "isInternetEnabled": true,
   "language": "python",
   "sourceType": "notebook"
  },
  "kernelspec": {
   "display_name": "Python 3",
   "language": "python",
   "name": "python3"
  },
  "language_info": {
   "codemirror_mode": {
    "name": "ipython",
    "version": 3
   },
   "file_extension": ".py",
   "mimetype": "text/x-python",
   "name": "python",
   "nbconvert_exporter": "python",
   "pygments_lexer": "ipython3",
   "version": "3.10.12"
  },
  "papermill": {
   "default_parameters": {},
   "duration": 10.665931,
   "end_time": "2025-07-09T09:47:26.956100",
   "environment_variables": {},
   "exception": null,
   "input_path": "__notebook__.ipynb",
   "output_path": "__notebook__.ipynb",
   "parameters": {},
   "start_time": "2025-07-09T09:47:16.290169",
   "version": "2.6.0"
  }
 },
 "nbformat": 4,
 "nbformat_minor": 5
}
